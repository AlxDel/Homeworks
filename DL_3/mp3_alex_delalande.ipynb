{
 "cells": [
  {
   "cell_type": "markdown",
   "metadata": {},
   "source": [
    "**You may need to install [OpenCV](https://pypi.python.org/pypi/opencv-python) and [scikit-video](http://www.scikit-video.org/stable/).**"
   ]
  },
  {
   "cell_type": "code",
   "execution_count": 1,
   "metadata": {},
   "outputs": [
    {
     "name": "stderr",
     "output_type": "stream",
     "text": [
      "Using TensorFlow backend.\n"
     ]
    }
   ],
   "source": [
    "import keras\n",
    "import numpy as np\n",
    "import io\n",
    "import base64\n",
    "from IPython.display import HTML\n",
    "import skvideo.io\n",
    "import cv2\n",
    "import json\n",
    "\n",
    "from keras.models import Sequential,model_from_json\n",
    "from keras.layers.core import Dense\n",
    "from keras.optimizers import sgd\n",
    "from keras.layers import Conv2D, MaxPooling2D, Activation, AveragePooling2D,Reshape,BatchNormalization, Flatten"
   ]
  },
  {
   "cell_type": "markdown",
   "metadata": {},
   "source": [
    "# MiniProject #3: Deep Reinforcement Learning - Alex DELALANDE"
   ]
  },
  {
   "cell_type": "markdown",
   "metadata": {},
   "source": [
    "__Notations__: $E_p$ is the expectation under probability $p$. Please justify each of your answer and widely comment your code."
   ]
  },
  {
   "cell_type": "markdown",
   "metadata": {},
   "source": [
    "# Context"
   ]
  },
  {
   "cell_type": "markdown",
   "metadata": {},
   "source": [
    "In a reinforcement learning algorithm, we modelize each step $t$ as an action $a_t$ obtained from a state $s_t$, i.e. $\\{(a_{t},s_{t})_{t\\leq T}\\}$ having the Markov property. We consider a discount factor $\\gamma \\in [0,1]$ that ensures convergence. The goal is to find among all the policies $\\pi$, one that maximizes the expected reward:\n",
    "\n",
    "\\begin{equation*}\n",
    "R(\\pi)=\\sum_{t\\leq T}E_{p^{\\pi}}[\\gamma^t r(s_{t},a_{t})] \\> ,\n",
    "\\end{equation*}\n",
    "\n",
    "where: \n",
    "\\begin{equation*}p^{\\pi}(a_{0},a_{1},s_{1},...,a_{T},s_{T})=p(a_{0})\\prod_{t=1}^{T}\\pi(a_{t}|s_{t})p(s_{t+1}|s_{t},a_{t}) \\> .\n",
    "\\end{equation*}\n",
    "\n",
    "We note the $Q$-function:\n",
    "\n",
    "\\begin{equation*}Q^\\pi(s,a)=E_{p^{\\pi}}[\\sum_{t\\leq T}\\gamma^{t}r(s_{t},a_{t})|s_{0}=s,a_{0}=a] \\> .\n",
    "\\end{equation*}\n",
    "\n",
    "Thus, the optimal Q function is:\n",
    "\\begin{equation*}\n",
    "Q^*(s,a)=\\max_{\\pi}Q^\\pi(s,a) \\> .\n",
    "\\end{equation*}\n",
    "\n",
    "In this project, we will apply the deep reinforcement learning techniques to a simple game: an agent will have to learn from scratch a policy that will permit it maximizing a reward."
   ]
  },
  {
   "cell_type": "markdown",
   "metadata": {},
   "source": [
    "## The environment, the agent and the game"
   ]
  },
  {
   "cell_type": "markdown",
   "metadata": {},
   "source": [
    "### The environment"
   ]
  },
  {
   "cell_type": "markdown",
   "metadata": {},
   "source": [
    "```Environment``` is an abstract class that represents the states, rewards, and actions to obtain the new state."
   ]
  },
  {
   "cell_type": "code",
   "execution_count": 2,
   "metadata": {},
   "outputs": [],
   "source": [
    "class Environment(object):\n",
    "    def __init__(self):\n",
    "        pass\n",
    "\n",
    "    def act(self, act):\n",
    "        \"\"\"\n",
    "        One can act on the environment and obtain its reaction:\n",
    "        - the new state\n",
    "        - the reward of the new state\n",
    "        - should we continue the game?\n",
    "\n",
    "        :return: state, reward, game_over\n",
    "        \"\"\"\n",
    "        pass\n",
    "\n",
    "\n",
    "    def reset(self):\n",
    "        \"\"\"\n",
    "        Reinitialize the environment to a random state and returns\n",
    "        the original state\n",
    "\n",
    "        :return: state\n",
    "        \"\"\"\n",
    "        pass\n",
    "    \n",
    "    def draw(self):\n",
    "        \"\"\"\n",
    "        Visualize in the console or graphically the current state\n",
    "        \"\"\"\n",
    "        pass"
   ]
  },
  {
   "cell_type": "markdown",
   "metadata": {},
   "source": [
    "The method ```act``` allows to act on the environment at a given state $s_t$ (stored internally), via action $a_t$. The method will return the new state $s_{t+1}$, the reward $r(s_{t},a_{t})$ and determines if $t\\leq T$ (*game_over*).\n",
    "\n",
    "The method ```reset``` simply reinitializes the environment to a random state $s_0$.\n",
    "\n",
    "The method ```draw``` displays the current state $s_t$ (this is useful to check the behavior of the Agent).\n",
    "\n",
    "We modelize $s_t$ as a tensor, while $a_t$ is an integer."
   ]
  },
  {
   "cell_type": "markdown",
   "metadata": {},
   "source": [
    "### The Agent"
   ]
  },
  {
   "cell_type": "markdown",
   "metadata": {},
   "source": [
    "The goal of the ```Agent``` is to interact with the ```Environment``` by proposing actions $a_t$ obtained from a given state $s_t$ to attempt to maximize its __reward__ $r(s_t,a_t)$. We propose the following abstract class:"
   ]
  },
  {
   "cell_type": "code",
   "execution_count": 3,
   "metadata": {},
   "outputs": [],
   "source": [
    "class Agent(object):\n",
    "    def __init__(self, epsilon=0.1, n_action=4):\n",
    "        self.epsilon = epsilon\n",
    "        self.n_action = n_action\n",
    "    \n",
    "    def set_epsilon(self, e):\n",
    "        self.epsilon = e\n",
    "\n",
    "    def act(self, s, train=True):\n",
    "        \"\"\" This function should return the next action to do:\n",
    "        an integer between 0 and 4 (not included) with a random exploration of epsilon\"\"\"\n",
    "        if train:\n",
    "            if np.random.rand() <= self.epsilon:\n",
    "                a = np.random.randint(0, self.n_action, size=1)[0]\n",
    "            else:\n",
    "                a = self.learned_act(s)\n",
    "        else: # in some cases, this can improve the performance.. remove it if poor performances\n",
    "            a = self.learned_act(s)\n",
    "\n",
    "        return a\n",
    "\n",
    "    def learned_act(self,s):\n",
    "        \"\"\" Act via the policy of the agent, from a given state s\n",
    "        it proposes an action a\"\"\"\n",
    "        pass\n",
    "\n",
    "    def reinforce(self, s, n_s, a, r, game_over_):\n",
    "        \"\"\" This function is the core of the learning algorithm. \n",
    "        It takes as an input the current state s_, the next state n_s_\n",
    "        the action a_ used to move from s_ to n_s_ and the reward r_.\n",
    "        \n",
    "        Its goal is to learn a policy.\n",
    "        \"\"\"\n",
    "        pass\n",
    "\n",
    "    def save(self):\n",
    "        \"\"\" This function returns basic stats if applicable: the\n",
    "        loss and/or the model\"\"\"\n",
    "        pass\n",
    "\n",
    "    def load(self):\n",
    "        \"\"\" This function allows to restore a model\"\"\"\n",
    "        pass"
   ]
  },
  {
   "cell_type": "markdown",
   "metadata": {},
   "source": [
    "***\n",
    "__Question 1__:\n",
    "Explain the function act. Why is ```epsilon``` essential?"
   ]
  },
  {
   "cell_type": "markdown",
   "metadata": {},
   "source": [
    "> The function `act` returns an action for a given state and performs a stochastic choice between exploration and exploitation. Indeed, this choice is done through $\\epsilon$: with a probability $\\epsilon$, the agent chooses a random action (*exploration*) and with a probability $1 - \\epsilon$ it acts according to its current policy (*exploitation*). $\\epsilon$ is thus essential becauses it calibrates the trade-off between exploration and exploitation which is the core principle of the basic RL setting ($\\epsilon$ too close from $0$ leads to act almost always according to the learned policy which can be suboptimal, while $\\epsilon$ too close from $1$ can lead to always act randomly and thus have a poor reward at the end of all the episodes)."
   ]
  },
  {
   "cell_type": "markdown",
   "metadata": {},
   "source": [
    "***\n",
    "### The Game"
   ]
  },
  {
   "cell_type": "markdown",
   "metadata": {},
   "source": [
    "The ```Agent``` and the ```Environment``` work in an interlaced way as in the following (take some time to understand this code as it is the core of the project)\n",
    "\n",
    "```python\n",
    "\n",
    "epoch = 300\n",
    "env = Environment()\n",
    "agent = Agent()\n",
    "\n",
    "\n",
    "# Number of won games\n",
    "score = 0\n",
    "loss = 0\n",
    "\n",
    "\n",
    "for e in range(epoch):\n",
    "    # At each epoch, we restart to a fresh game and get the initial state\n",
    "    state = env.reset()\n",
    "    # This assumes that the games will end\n",
    "    game_over = False\n",
    "\n",
    "    win = 0\n",
    "    lose = 0\n",
    "    \n",
    "    while not game_over:\n",
    "        # The agent performs an action\n",
    "        action = agent.act(state)\n",
    "\n",
    "        # Apply an action to the environment, get the next state, the reward\n",
    "        # and if the games end\n",
    "        prev_state = state\n",
    "        state, reward, game_over = env.act(action)\n",
    "\n",
    "        # Update the counters\n",
    "        if reward > 0:\n",
    "            win = win + reward\n",
    "        if reward < 0:\n",
    "            lose = lose - reward\n",
    "\n",
    "        # Apply the reinforcement strategy\n",
    "        loss = agent.reinforce(prev_state, state,  action, reward, game_over)\n",
    "\n",
    "    # Save as a mp4\n",
    "    if e % 10 == 0:\n",
    "        env.draw(e)\n",
    "\n",
    "    # Update stats\n",
    "    score += win-lose\n",
    "\n",
    "    print(\"Epoch {:03d}/{:03d} | Loss {:.4f} | Win/lose count {}/{} ({})\"\n",
    "          .format(e, epoch, loss, win, lose, win-lose))\n",
    "    agent.save()\n",
    "```"
   ]
  },
  {
   "cell_type": "markdown",
   "metadata": {},
   "source": [
    "# The game, *eat cheese*"
   ]
  },
  {
   "cell_type": "markdown",
   "metadata": {},
   "source": [
    "A rat runs on an island and tries to eat as much as possible. The island is subdivided into $N\\times N$ cells, in which there are cheese (+0.5) and poisonous cells (-1). The rat has a visibility of 2 cells (thus it can see $5^2$ cells). The rat is given a time $T$ to accumulate as much food as possible. It can perform 4 actions: going up, down, left, right. \n",
    "\n",
    "The goal is to code an agent to solve this task that will learn by trial and error. We propose the following environment:"
   ]
  },
  {
   "cell_type": "code",
   "execution_count": 4,
   "metadata": {},
   "outputs": [],
   "source": [
    "class Environment(object):\n",
    "    def __init__(self, grid_size=10, max_time=500, temperature=0.1):\n",
    "        grid_size = grid_size + 4\n",
    "        self.grid_size = grid_size\n",
    "        self.max_time = max_time\n",
    "        self.temperature = temperature\n",
    "\n",
    "        #board on which one plays\n",
    "        self.board = np.zeros((grid_size,grid_size))\n",
    "        self.position = np.zeros((grid_size,grid_size))\n",
    "\n",
    "        # coordinate of the rat\n",
    "        self.x = 0\n",
    "        self.y = 1\n",
    "\n",
    "        # self time\n",
    "        self.t = 0\n",
    "\n",
    "        self.scale=16\n",
    "\n",
    "        self.to_draw = np.zeros((max_time+2, grid_size*self.scale, grid_size*self.scale, 3))\n",
    "\n",
    "\n",
    "    def draw(self, e):\n",
    "        skvideo.io.vwrite(str(e) + '.mp4', self.to_draw)\n",
    "\n",
    "    def get_frame(self, t):\n",
    "        b = np.zeros((self.grid_size,self.grid_size,3))+128\n",
    "        b[self.board>0, 0] = 256\n",
    "        b[self.board < 0, 2] = 256\n",
    "        b[self.x,self.y, :]=256\n",
    "        b[-2:,:,:]=0\n",
    "        b[:,-2:,:]=0\n",
    "        b[:2,:,:]=0\n",
    "        b[:,:2,:]=0\n",
    "        \n",
    "        b =  cv2.resize(b, None, fx=self.scale, fy=self.scale, interpolation=cv2.INTER_NEAREST)\n",
    "\n",
    "        self.to_draw[t,:,:,:]=b\n",
    "\n",
    "\n",
    "    def act(self, action):\n",
    "        \"\"\"This function returns the new state, reward and decides if the\n",
    "        game ends.\"\"\"\n",
    "\n",
    "        self.get_frame(int(self.t))\n",
    "\n",
    "        self.position = np.zeros((self.grid_size, self.grid_size))\n",
    "\n",
    "        self.position[0:2,:]= -1\n",
    "        self.position[:,0:2] = -1\n",
    "        self.position[-2:, :] = -1\n",
    "        #self.position[-2:, :] = -1\n",
    "        self.position[:, -2:] = -1\n",
    "        \n",
    "        self.position[self.x, self.y] = 1\n",
    "        if action == 0:\n",
    "            if self.x == self.grid_size-3:\n",
    "                self.x = self.x-1\n",
    "            else:\n",
    "                self.x = self.x + 1\n",
    "        elif action == 1:\n",
    "            if self.x == 2:\n",
    "                self.x = self.x+1\n",
    "            else:\n",
    "                self.x = self.x-1\n",
    "        elif action == 2:\n",
    "            if self.y == self.grid_size - 3:\n",
    "                self.y = self.y - 1\n",
    "            else:\n",
    "                self.y = self.y + 1\n",
    "        elif action == 3:\n",
    "            if self.y == 2:\n",
    "                self.y = self.y + 1\n",
    "            else:\n",
    "                self.y = self.y - 1\n",
    "        else:\n",
    "            RuntimeError('Error: action not recognized')\n",
    "\n",
    "        self.t = self.t + 1\n",
    "        reward = self.board[self.x, self.y]\n",
    "        self.board[self.x, self.y] = 0\n",
    "        game_over = self.t > self.max_time\n",
    "        state = np.concatenate((self.board.reshape(self.grid_size, self.grid_size,1),\n",
    "                        self.position.reshape(self.grid_size, self.grid_size,1)),axis=2)\n",
    "        state = state[self.x-2:self.x+3,self.y-2:self.y+3,:]\n",
    "\n",
    "        return state, reward, game_over\n",
    "\n",
    "    def reset(self):\n",
    "        \"\"\"This function resets the game and returns the initial state\"\"\"\n",
    "\n",
    "        self.x = np.random.randint(3, self.grid_size-3, size=1)[0]\n",
    "        self.y = np.random.randint(3, self.grid_size-3, size=1)[0]\n",
    "\n",
    "\n",
    "        bonus = 0.5*np.random.binomial(1, self.temperature, size=self.grid_size**2)\n",
    "        bonus = bonus.reshape(self.grid_size, self.grid_size)\n",
    "\n",
    "        malus = -1.0*np.random.binomial(1, self.temperature, size=self.grid_size**2)\n",
    "        malus = malus.reshape(self.grid_size, self.grid_size)\n",
    "\n",
    "        self.to_draw = np.zeros((self.max_time+2, self.grid_size*self.scale, self.grid_size*self.scale, 3))\n",
    "\n",
    "\n",
    "        malus[bonus>0]=0\n",
    "\n",
    "        self.board = bonus + malus\n",
    "\n",
    "        self.position = np.zeros((self.grid_size, self.grid_size))\n",
    "        self.position[0:2,:]= -1\n",
    "        self.position[:,0:2] = -1\n",
    "        self.position[-2:, :] = -1\n",
    "        #self.position[-2:, :] = -1\n",
    "        self.position[:, -2:] = -1\n",
    "        self.board[self.x,self.y] = 0\n",
    "        self.t = 0\n",
    "\n",
    "        state = np.concatenate((\n",
    "                               self.board.reshape(self.grid_size, self.grid_size,1),\n",
    "                        self.position.reshape(self.grid_size, self.grid_size,1)),axis=2)\n",
    "\n",
    "        state = state[self.x - 2:self.x + 3, self.y - 2:self.y + 3, :]\n",
    "        return state"
   ]
  },
  {
   "cell_type": "markdown",
   "metadata": {},
   "source": [
    "The following elements are important because they correspond to the hyper parameters for this project:"
   ]
  },
  {
   "cell_type": "code",
   "execution_count": 5,
   "metadata": {},
   "outputs": [],
   "source": [
    "# parameters\n",
    "size = 13\n",
    "T = 200\n",
    "temperature = 0.3\n",
    "epochs_train = 31 # set small when debugging\n",
    "epochs_test = 10 # set small when debugging\n",
    "\n",
    "# display videos\n",
    "def display_videos(name):\n",
    "    video = io.open(name, 'r+b').read()\n",
    "    encoded = base64.b64encode(video)\n",
    "    return '''<video alt=\"test\" controls>\n",
    "                <source src=\"data:video/mp4;base64,{0}\" type=\"video/mp4\" />\n",
    "             </video>'''.format(encoded.decode('ascii'))"
   ]
  },
  {
   "cell_type": "markdown",
   "metadata": {},
   "source": [
    "__Question 2__ Explain the use of the arrays ```position``` and ```board```."
   ]
  },
  {
   "cell_type": "markdown",
   "metadata": {},
   "source": [
    "> `position` is a $N\\times N$ array (actually $(N+2) \\times (N+2)$ with a margin of size $2$ for visualization). This array encodes the current position of the rat on the grid (with a $1$ at the position of the rat and $0$s elsewhere). \n",
    "`board` is also a $N\\times N$ array that encodes the current bonuses and maluses of the grid (with $0.5$ values at the places of bonuses, $-2$ at the places of maluses and $0$ elsewhere).\n",
    "These two arrays allow for the definition of the agent's state as the subarray of the concatenation of these two arrays, centered at the position of the agent and of width the visibility of the agent."
   ]
  },
  {
   "cell_type": "markdown",
   "metadata": {},
   "source": [
    "## Random Agent"
   ]
  },
  {
   "cell_type": "markdown",
   "metadata": {},
   "source": [
    "***\n",
    "__Question 3__ Implement a random Agent (only ```learned_act``` needs to be implemented):"
   ]
  },
  {
   "cell_type": "code",
   "execution_count": 6,
   "metadata": {},
   "outputs": [],
   "source": [
    "class RandomAgent(Agent):\n",
    "    def __init__(self):\n",
    "        super(RandomAgent, self).__init__()\n",
    "        pass\n",
    "\n",
    "    def learned_act(self, s):\n",
    "        return np.random.randint(0, self.n_action, size=1)[0]"
   ]
  },
  {
   "cell_type": "markdown",
   "metadata": {},
   "source": [
    "***\n",
    "***\n",
    "__Question 4__ Visualize the game moves. You need to fill in the following function for the evaluation:"
   ]
  },
  {
   "cell_type": "code",
   "execution_count": 7,
   "metadata": {},
   "outputs": [],
   "source": [
    "def test(agent, env, epochs, prefix=''):\n",
    "    # Number of won games\n",
    "    score = 0\n",
    "        \n",
    "    for e in range(epochs):\n",
    "        \n",
    "        ##### FILL IN HERE\n",
    "        state = env.reset()\n",
    "        game_over = False\n",
    "        win, lose = 0, 0\n",
    "\n",
    "        while not game_over:\n",
    "            action = agent.learned_act(state)\n",
    "            state, reward, game_over = env.act(action)\n",
    "            if reward > 0: win = win + reward\n",
    "            elif reward < 0: lose = lose -reward\n",
    "        \n",
    "        # Save as a mp4\n",
    "        env.draw(prefix+str(e))\n",
    "\n",
    "        # Update stats\n",
    "        score = score + win-lose\n",
    "\n",
    "        print(\"Win/lose count {}/{}. Average score ({})\"\n",
    "              .format(win, lose, score/(1+e)))\n",
    "    print('Final score: '+str(score/epochs))"
   ]
  },
  {
   "cell_type": "code",
   "execution_count": 8,
   "metadata": {},
   "outputs": [
    {
     "name": "stdout",
     "output_type": "stream",
     "text": [
      "Win/lose count 11.0/22.0. Average score (-11.0)\n",
      "Win/lose count 10.0/18.0. Average score (-9.5)\n",
      "Win/lose count 7.0/9.0. Average score (-7.0)\n",
      "Win/lose count 9.5/10.0. Average score (-5.375)\n",
      "Win/lose count 7.5/14.0. Average score (-5.6)\n",
      "Win/lose count 9.0/7.0. Average score (-4.333333333333333)\n",
      "Win/lose count 11.5/15.0. Average score (-4.214285714285714)\n",
      "Win/lose count 17.5/17.0. Average score (-3.625)\n",
      "Win/lose count 9.0/13.0. Average score (-3.6666666666666665)\n",
      "Win/lose count 17.0/19.0. Average score (-3.5)\n",
      "Final score: -3.5\n"
     ]
    },
    {
     "data": {
      "text/html": [
       "<video alt=\"test\" controls>\n",
       "                <source src=\"data:video/mp4;base64,AAAAIGZ0eXBpc29tAAACAGlzb21pc28yYXZjMW1wNDEAAAAIZnJlZQAAGL1tZGF0AAACrAYF//+o3EXpvebZSLeWLNgg2SPu73gyNjQgLSBjb3JlIDE0OCByMjc2IDNmNWVkNTYgLSBILjI2NC9NUEVHLTQgQVZDIGNvZGVjIC0gQ29weWxlZnQgMjAwMy0yMDE2IC0gaHR0cDovL3d3dy52aWRlb2xhbi5vcmcveDI2NC5odG1sIC0gb3B0aW9uczogY2FiYWM9MSByZWY9MyBkZWJsb2NrPTE6MDowIGFuYWx5c2U9MHgzOjB4MTEzIG1lPWhleCBzdWJtZT03IHBzeT0xIHBzeV9yZD0xLjAwOjAuMDAgbWl4ZWRfcmVmPTEgbWVfcmFuZ2U9MTYgY2hyb21hX21lPTEgdHJlbGxpcz0xIDh4OGRjdD0xIGNxbT0wIGRlYWR6b25lPTIxLDExIGZhc3RfcHNraXA9MSBjaHJvbWFfcXBfb2Zmc2V0PTQgdGhyZWFkcz02IGxvb2thaGVhZF90aHJlYWRzPTEgc2xpY2VkX3RocmVhZHM9MCBucj0wIGRlY2ltYXRlPTEgaW50ZXJsYWNlZD0wIGJsdXJheV9jb21wYXQ9MCBjb25zdHJhaW5lZF9pbnRyYT0wIGJmcmFtZXM9MyBiX3B5cmFtaWQ9MiBiX2FkYXB0PTEgYl9iaWFzPTAgZGlyZWN0PTEgd2VpZ2h0Yj0xIG9wZW5fZ29wPTAgd2VpZ2h0cD0yIGtleWludD0yNTAga2V5aW50X21pbj0yNSBzY2VuZWN1dD00MCBpbnRyYV9yZWZyZXNoPTAgcmNfbG9va2FoZWFkPTQwIHJjPWNyZiBtYnRyZWU9MSBjcmY9MjMuMCBxY29tcD0wLjYwIHFwbWluPTAgcXBtYXg9NjkgcXBzdGVwPTQgaXBfcmF0aW89MS40MCBhcT0xOjEuMDAAgAAAArlliIQAN//+9of4FNlYE7p//T/gus6fOX+dsAE02AFIbmCn/DU0XwKS2//AplseTF/91//00RLMIxCIjw2On9Zfm3/Zb+SfmIxWcl65C0zMvK0PS0IQV9wKQvCVHxOSk+UcQX24hDes100yTjSzTGfQ2q0bD/0VfFm5U08eD6t7prbgxTIT/gmsXragHQQFn2G0MWc0U9YhTKvJqZ6ynQ5LBc+fjsQubhZ3A+NPgNQo0cexLAg/MD95+ZuNroen3S21GEnPyfZCqGfa9MEXnIzdlA3bwiJFlEolyQMvSvdrtL1M+5zNd5zsAO2xRsBMpZQdsWV0241jU7MjdtSLjY4Mz5hoZUUUDN8vO/gEWqixawNO3PILqnmArxdOgzRGGXd1a4kUCLi/Pu7GZAz3BS9f1eKcEblwTOwfo3g9sZMY+lQ471pRcg/EYFKggCgOD97yGZ6FWzt2Pu8wKmz1Mi1rcy17Nr68qn+hbww7hKxf5blqzHXzdueBeKM5KUTwAWH3zMShfGm/b5k+dMXhBqWlGIDZq28Q51koOJFi7iSysaSL131uCSliQFFtwgkpn3/ZXUBcMz/B+Yuncp8HkkHJ3VZ8EPNxCBFcvnlse/WsuHJUcX8/3WbuP58dzAU+iDiv68CEDz5z5z32XMJjWQxySCV2NBzkLx2Us1LCmjrFtJTyWrx6g51u0FoFPaxacYKAZhryShvBIIVfPSIEayZWMZMNkVWqELEhOwqUlmVtV3fTWVe1MTMuNvW+gGLWQYhGdjQj5xBeTC3tNgaKjKbnq0C/UlIe22LgTFhQ+M7O54Jrumn6ogCGoXI3lR92FwyAJLoukgUUb5nJvBBxdQdq97CQwjc1kZz6qomNQs2Hnexqa4NHOzKWXVMS5lcR2vCF8ZlPqxdYV4GBbHzsRNlBtF0s+DIZAImBAAAAFkGaImxDf/6nhABPeBZif6u3up+1ehAAAAAQAZ5BeQr/AEFeaJnelZv0gQAAABpBmkQ8IZMphDP//p4QATb4h/iiXnOmxUB70AAAABABnmNqQr8AP4C851oYXlPBAAAAGEGaZUnhDyZTAhn//p4QAMT6+/kSI+sKLwAAABlBmoZJ4Q8mUwIb//6nhAAf32D/CcFuhNlBAAAAGEGaqEnhDyZTBRE8N//+p4QADY++z7Y8wQAAABABnsdqQr8AEKVI72ePuCuAAAAAGEGayUnhDyZTAhv//qeEABWMVpBCJ/luowAAABdBmuxJ4Q8mUwIb//6nhAAWHFaOqhtumwAAAA9BnwpFETwr/wAR2TcN0cAAAAAPAZ8rakK/ABHc0b1WAHkgAAAAEkGbLkmoQWiZTBTw3/6nhAABJwAAABABn01qQr8AEeCUGtr7lzyRAAAAG0GbT0nhClJlMCHf/qmWAAsmlvEgy7YSPDkkcQAAABlBm3JJ4Q6JlMCG//6nhAAgqALNts+z5tbAAAAAEkGfkEURPCv/ABsHaf9HJFX0gAAAAA4Bn7FqQr8AGwdqua9X0wAAABJBm7ZJqEFomUwIb//+p4QAAScAAAAMQZ/URREsL/8AALKAAAAAEAGf83RCvwAavOTiOy7LWYEAAAAPAZ/1akK/ABq85N1nqz53AAAAGkGb90moQWyZTAh3//6plgAQn486WdHU8mvBAAAAHEGaGknhClJlMCG//qeEACCqDfE/l3gOb9WsG4EAAAARQZ44RTRMK/8AGwdWwSErftcAAAAOAZ5ZakK/ABsHXxXAl10AAAAdQZpeSahBaJlMCG///qeEADI4clm3UeOng83Xsx4AAAARQZ58RREsL/8AHbTqk0Rt6QUAAAAPAZ6bdEK/ABunk3nnFzaBAAAAEAGenWpCvwAo9kQm4z69PggAAAAaQZqfSahBbJlMCHf//qmWABlvaX87pCmEXHAAAAAZQZqiSeEKUmUwIb/+p4QAH99g/wnBboTZQQAAABJBnsBFNEwr/wAaYjtzrJ8nW4AAAAAQAZ7hakK/ABnCZJpvpIObcQAAABJBmuZJqEFomUwIb//+p4QAAScAAAAMQZ8ERREsL/8AALKBAAAADwGfI3RCvwAQqh5LUB+YlwAAABABnyVqQr8AGmSti9XYcphBAAAAGkGbJ0moQWyZTAh3//6plgAKpzzIbYg3dVBBAAAAJ0GbSknhClJlMCHf/qmWAAbTi9GNeeRzLK1TVeBSiQLwKZrlo8Ng0wAAABJBn2hFNEwr/wALE3KFS0S/3IcAAAAQAZ+JakK/AAdtmDyXM+UpgQAAABxBm41JqEFomUwId//+qZYAByfaX9Vp0+qCfg+4AAAAEkGfq0URLCv/AAumDru7+kXKwAAAAA4Bn8xqQr8AC6Nuu48GVwAAAB5Bm9FJqEFsmUwIb//+p4QADXurZif6u3up+1DS5q0AAAARQZ/vRRUsL/8AB/E6jev+18UAAAAPAZ4OdEK/AAdAvxcB+blAAAAAEAGeEGpCvwALFZEJuM+vVjgAAAASQZoVSahBbJlMCG///qeEAAEnAAAADEGeM0UVLC//AACygAAAAA8BnlJ0Qr8ACvf/JagPzOUAAAAPAZ5UakK/AAr3/yUoD8zlAAAAGkGaVkmoQWyZTAhv//6nhAAU/0T/Vb5j8VBAAAAAHUGaeEnhClJlMFFSw3/+p4QAIKPmamzbjN7qfGD1AAAAEAGel2pCvwAbB1TyYHr3gIEAAAAZQZqZSeEOiZTAhv/+p4QAM3SJ/qt8x+I/wAAAABFBmr1J4Q8mUwIb//6nhAABJwAAAAxBnttFETwv/wAAsoAAAAAQAZ76dEK/AD+WKxefwOS1QQAAAA8BnvxqQr8AKZ/8OY602F0AAAAZQZrgSahBaJlMCGf//p4QAM2vuNC6b7rePAAAABJBnx5FESwr/wA/j8DopaSwZ9IAAAAPAZ8/akK/AD+BEzU0Dj6RAAAAGkGbIUmoQWyZTAhv//6nhAA17q0ghE/y2+WAAAAAHUGbQ0nhClJlMFFSwz/+nhAA0/v7+hVdy6dsFUj5AAAAEAGfYmpCvwAsTbkVeAJ/24AAAAAZQZtkSeEOiZTAhv/+p4QAFs91P1HGhIdJwQAAABhBm4ZJ4Q8mUwUVPDf//qeEAAl30c/FV4EAAAAPAZ+lakK/AAv1iwLr/DfBAAAAGUGbp0nhDyZTAhv//qeEAA7QPCnWdPuujoEAAAAbQZvJSeEPJlMFETw3//6nhAAO0nhzJnBCbrJAAAAAEAGf6GpCvwAMQS38B9fwMXAAAAAYQZvsSeEPJlMCG//+p4QACXdNuKZFCfHfAAAAD0GeCkURPCv/AAeYH/N+4AAAAA8BnitqQr8ABPuUDyYJf4AAAAAeQZouSahBaJlMFPDf/qeEAAYn2D/PIK1TISDUuc1pAAAAEAGeTWpCvwAE+bkMPoCQfZkAAAAaQZpQSeEKUmUwUsN//qeEAAZP2D2sd51L4FsAAAAQAZ5vakK/AAUdRomRNK09QAAAABhBmnFJ4Q6JlMCG//6nhAAGJ4TFHwYQcewAAAAZQZqUSeEPJlMCG//+p4QACSoAs22z7PntQQAAABJBnrJFETwr/wAHbZ30LckWHYAAAAAQAZ7TakK/AAdtmDyYHr5dgAAAABlBmtdJqEFomUwIb//+p4QACTdNrizP/uBVAAAAEkGe9UURLCv/AAumDru7+kXKwAAAABABnxZqQr8AC6NfOdaGF+RBAAAAHUGbGUmoQWyZTBRMO//+qZYABIerZEUTU6hBuw6lAAAAEAGfOGpCvwAHQBec60MMDcAAAAAbQZs9SeEKUmUwIb/+p4QACGj5qms25rx0+2UJAAAAEEGfW0U0TC//AAUdlioQcOAAAAAQAZ96dEK/AAbqTQifFmKbmQAAAA8Bn3xqQr8ABxOcNgcqP4EAAAAcQZtgSahBaJlMCGf//p4QADJ+/v6kZ1gXdAiM1AAAABBBn55FESwr/wAKhZEJsL3BAAAAEAGfv2pCvwAKhG13WQw5mYEAAAAZQZuhSahBbJlMCG///qeEAAg3TbimRQnyLgAAABhBm8JJ4QpSZTAhv/6nhAAFa5lXFmf/cg0AAAAbQZvlSeEOiZTAhv/+p4QABUfdT74Z4mgt0irwAAAAEkGeA0URPCv/AAQ2T5zrJ8qegQAAAA4BniRqQr8ABDg0LvesGwAAAB1BmihJqEFomUwIb//+p4QAB8FgLNuB746dRpaTHQAAABJBnkZFESwr/wAGcds3gKR9fI0AAAAQAZ5nakK/AAZx2o5X9uI9wAAAABpBmmtJqEFsmUwIb//+p4QADD0if6rfMfjDwAAAAA9BnolFFSwr/wAJ824E5kEAAAANAZ6qakK/AAn3Kw8XMgAAABpBmqxJqEFsmUwIb//+p4QAEtQBZttn2fOLwAAAABdBmtBJ4QpSZTAhn/6eEABw/XI3ZsIbrQAAAA5Bnu5FNEwv/wARWgBW4QAAABABnw10Qr8AF+sq7q/HeCvBAAAADwGfD2pCvwAPCobsM9WfyQAAABlBmxFJqEFomUwIZ//+nhAASb4h/bIY+sN3AAAAGEGbMknhClJlMCG//qeEAAxPCZlcgt6c0wAAABlBm1NJ4Q6JlMCG//6nhAAHy9g/wnBboXrAAAAAGUGbdEnhDyZTAh3//qmWAAKX76vrsQbivLAAAAAiQZuYSeEPJlMCG//+p4QAB5/fZ9qqo5lliZHY9p1sh8lzgQAAABJBn7ZFETwv/wAElz7cmy3z34AAAAAQAZ/VdEK/AAP5GZEdizFTGQAAAA8Bn9dqQr8ABkkrYwrOBsEAAAAaQZvZSahBaJlMCHf//qmWAAKFzzCZZnz6CYAAAAAbQZv9SeEKUmUwIb/+p4QABNvjp9zIwtmKEdKVAAAAEEGeG0U0TC//AALpQIKUPcgAAAAPAZ46dEK/AAYiyru83glBAAAAEAGePGpCvwAD4gvOdaGGJkEAAAAtQZohSahBaJlMCG///qeEAAdH2X1fApr6hX4FKls/ApnX3XhRrNuZX9Y3F7sUAAAAEUGeX0URLC//AARWe+5uAvooAAAAEAGefnRCvwAF+kr31/abIiEAAAAPAZ5gakK/AAXnUTkDI2m7AAAAG0GaYkmoQWyZTAhv//6nhAAHR+AwHN17M+CMBwAAACBBmoRJ4QpSZTBRUsO//qmWAAOT8Qh8/vjmIKYHRc5eQAAAABABnqNqQr8ABdG5DD6AkHvZAAAAGUGap0nhDomUwId//qmWAAJwUc60PV98w8EAAAAPQZ7FRRU8K/8AA+IK4evBAAAADwGe5mpCvwAGIStjCs4JQQAAABdBmutJqEFomUwIb//+p4QAAyfvs+33gAAAABRBnwlFESwv/wAC6WuOUzHzEPxjfgAAABABnyh0Qr8AA/jYGtplD53BAAAAEAGfKmpCvwAD4s+Y3Q5IQEQAAAAZQZsuSahBbJlMCG///qeEAAT3FaQQif5cmwAAABJBn0xFFSwr/wAD+MxewsF+xcEAAAAOAZ9takK/AAP4zWPOC28AAAAcQZtwSahBbJlMFEw3//6nhAAHaYtrNua8dPtnMQAAABABn49qQr8ABkgWNe80rSpAAAAAGEGbkUnhClJlMCG//qeEAAdz2D17M+CL/wAAAB9Bm7VJ4Q6JlMCG//6nhAALZ7ww2f4i63Uqf4muQkcdAAAAEUGf00URPC//AAbARVBlq4xoAAAADwGf8nRCvwAJMIA6E5M2wAAAAA8Bn/RqQr8ABfiWlSKBLLMAAAAnQZv3SahBaJlMFPDP/p4QACte8DauBTX1CvmWJYL5lk2Dgofnu5D8AAAAEAGeFmpCvwAI7s8cr+3EUMEAAAAbQZoYSeEKUmUwIb/+p4QAENQBZttoDAJr+8ExAAAAGUGaOUnhDomUwIb//qeEABFR8xyTuNmC1pAAAAAYQZpaSeEPJlMCG//+p4QAGvpE/1KQCtnBAAAAIEGafEnhDyZTBRE8O//+qZYADjjsJCeeBFhR+EHx+vlcAAAAEAGem2pCvwAXSwjyXM+TB4EAAAAbQZqASeEPJlMCHf/+qZYADk+0v7FgOiBbjGIzAAAAEEGevkURPC//ABDc/c4WWUgAAAAPAZ7ddEK/ABfnk3nnF1SAAAAAEAGe32pCvwAX5m5rjxVtUqEAAAASQZrESahBaJlMCG///qeEAAEnAAAAEEGe4kURLC//ABDfQRY4CykAAAAQAZ8BdEK/ABfrKu5DZUpf4AAAABABnwNqQr8AF+Zua48VbVKhAAAAGkGbB0moQWyZTAhv//6nhAAc84z/Vb5j8TjhAAAAEkGfJUUVLCv/ABfnagQkY/dQQQAAAA4Bn0ZqQr8AF+dqun6ogwAAAB1Bm0pJqEFsmUwIb//+p4QALZ8afyQ3wp1W3OH7gAAAABJBn2hFFSwr/wAkvTrvMYO1X5QAAAASAZ+JakK/ACXBKEHTmxLvX8sxAAAAHkGbjEmoQWyZTBRMN//+p4QAHn99nu2XUDw4shTo5QAAABABn6tqQr8AGSZua48VbU/gAAAAHEGbrknhClJlMFLDf/6nhAAT/mVxyG+HFkOuFCEAAAAQAZ/NakK/AA/gRM030kHTSQAAABxBm9BJ4Q6JlMFEw3/+p4QADT8JmbR3M1NvWG7hAAAAEAGf72pCvwALFSjeaYq2yuAAAAAcQZvySeEPJlMFPDf//qeEAA3Lq1TH+rdvsH69pAAAABABnhFqQr8AC12PLcNm1ZqBAAAAHEGaFEnhDyZTBTwz//6eEABWK9zXHP5tfX328VAAAAAPAZ4zakK/ABHdnluGzaqTAAAAGEGaNUnhDyZTAhn//p4QAIKcI5/DnN9bTwAAABlBmlZJ4Q8mUwIb//6nhAA0tIn+q3zH4j5gAAAAGUGad0nhDyZTAhv//qeEADXurSCET/Lb5YEAAAAdQZqZSeEPJlMFETw3//6nhABUeZV4QLPTxB/vjPkAAAAQAZ64akK/AENeaJkTSs33QAAAABtBmrtJ4Q8mUwU8N//+p4QAUjmVxv6C0hfMQ4EAAAAQAZ7aakK/AEFk+c60MLyjgAAAABxBmt1J4Q8mUwU8N//+p4QAM7wmZrql4muQ0wthAAAADwGe/GpCvwAqDbdKNIeK1QAAABhBmuFJ4Q8mUwIb//6nhAAzdqDu32D9clIAAAAQQZ8fRRE8L/8AHmTp3+b6WAAAAA8Bnz50Qr8AGmSUQpgjW4EAAAAQAZ8gakK/ACoWEeTA9e50gAAAABlBmyJJqEFomUwIb//+p4QAM7wmKPgwg16lAAAAFkGbRknhClJlMCGf/p4QAL7IY5/EWUAAAAAOQZ9kRTRML/8AHP/cB6EAAAAPAZ+DdEK/ACh2UcR2XZYfAAAADwGfhWpCvwAodlG6z1Z76QAAABlBm4dJqEFomUwIZ//+nhABLThHP4c5vrP/AAAAHEGbqUvhCEKUkRggoB/IB/YeAURLCv/+OEAAEXAAAAAlAZ/IakK/Aq9j7UHE3arDSSblqoYHLLcSIr0MP0lzdF5deoTosAAAC7Ftb292AAAAbG12aGQAAAAAAAAAAAAAAAAAAAPoAAAfkAABAAABAAAAAAAAAAAAAAAAAQAAAAAAAAAAAAAAAAAAAAEAAAAAAAAAAAAAAAAAAEAAAAAAAAAAAAAAAAAAAAAAAAAAAAAAAAAAAAAAAAACAAAK23RyYWsAAABcdGtoZAAAAAMAAAAAAAAAAAAAAAEAAAAAAAAfkAAAAAAAAAAAAAAAAAAAAAAAAQAAAAAAAAAAAAAAAAAAAAEAAAAAAAAAAAAAAAAAAEAAAAABEAAAARAAAAAAACRlZHRzAAAAHGVsc3QAAAAAAAAAAQAAH5AAAAQAAAEAAAAAClNtZGlhAAAAIG1kaGQAAAAAAAAAAAAAAAAAADIAAAGUAFXEAAAAAAAtaGRscgAAAAAAAAAAdmlkZQAAAAAAAAAAAAAAAFZpZGVvSGFuZGxlcgAAAAn+bWluZgAAABR2bWhkAAAAAQAAAAAAAAAAAAAAJGRpbmYAAAAcZHJlZgAAAAAAAAABAAAADHVybCAAAAABAAAJvnN0YmwAAACWc3RzZAAAAAAAAAABAAAAhmF2YzEAAAAAAAAAAQAAAAAAAAAAAAAAAAAAAAABEAEQAEgAAABIAAAAAAAAAAEAAAAAAAAAAAAAAAAAAAAAAAAAAAAAAAAAAAAAAAAAAAAY//8AAAAwYXZjQwH0AA3/4QAXZ/QADZGbKCIR0IAAAAMAgAAAGQeKFMsBAAZo6+PESEQAAAAYc3R0cwAAAAAAAAABAAAAygAAAgAAAAAUc3RzcwAAAAAAAAABAAAAAQAABYhjdHRzAAAAAAAAAK8AAAABAAAEAAAAAAEAAAYAAAAAAQAAAgAAAAABAAAGAAAAAAEAAAIAAAAAAgAABAAAAAABAAAGAAAAAAEAAAIAAAAAAQAABAAAAAABAAAIAAAAAAIAAAIAAAAAAQAABgAAAAABAAACAAAAAAEAAAQAAAAAAQAACAAAAAACAAACAAAAAAEAAAoAAAAAAQAABAAAAAABAAAAAAAAAAEAAAIAAAAAAQAABAAAAAABAAAIAAAAAAIAAAIAAAAAAQAACgAAAAABAAAEAAAAAAEAAAAAAAAAAQAAAgAAAAABAAAEAAAAAAEAAAgAAAAAAgAAAgAAAAABAAAKAAAAAAEAAAQAAAAAAQAAAAAAAAABAAACAAAAAAEAAAQAAAAAAQAACAAAAAACAAACAAAAAAEAAAgAAAAAAgAAAgAAAAABAAAKAAAAAAEAAAQAAAAAAQAAAAAAAAABAAACAAAAAAEAAAoAAAAAAQAABAAAAAABAAAAAAAAAAEAAAIAAAAAAQAABAAAAAABAAAGAAAAAAEAAAIAAAAAAQAABAAAAAABAAAKAAAAAAEAAAQAAAAAAQAAAAAAAAABAAACAAAAAAEAAAgAAAAAAgAAAgAAAAABAAAEAAAAAAEAAAYAAAAAAQAAAgAAAAABAAAEAAAAAAEAAAYAAAAAAQAAAgAAAAABAAAEAAAAAAEAAAYAAAAAAQAAAgAAAAABAAAIAAAAAAIAAAIAAAAAAQAABgAAAAABAAACAAAAAAEAAAYAAAAAAQAAAgAAAAABAAAEAAAAAAEAAAgAAAAAAgAAAgAAAAABAAAIAAAAAAIAAAIAAAAAAQAABgAAAAABAAACAAAAAAEAAAoAAAAAAQAABAAAAAABAAAAAAAAAAEAAAIAAAAAAQAACAAAAAACAAACAAAAAAIAAAQAAAAAAQAACAAAAAACAAACAAAAAAEAAAgAAAAAAgAAAgAAAAABAAAIAAAAAAIAAAIAAAAAAQAABAAAAAABAAAKAAAAAAEAAAQAAAAAAQAAAAAAAAABAAACAAAAAAQAAAQAAAAAAQAACgAAAAABAAAEAAAAAAEAAAAAAAAAAQAAAgAAAAABAAAEAAAAAAEAAAoAAAAAAQAABAAAAAABAAAAAAAAAAEAAAIAAAAAAQAACgAAAAABAAAEAAAAAAEAAAAAAAAAAQAAAgAAAAABAAAEAAAAAAEAAAYAAAAAAQAAAgAAAAABAAAIAAAAAAIAAAIAAAAAAQAACgAAAAABAAAEAAAAAAEAAAAAAAAAAQAAAgAAAAABAAAIAAAAAAIAAAIAAAAAAQAABgAAAAABAAACAAAAAAEAAAQAAAAAAQAACgAAAAABAAAEAAAAAAEAAAAAAAAAAQAAAgAAAAABAAAGAAAAAAEAAAIAAAAAAwAABAAAAAABAAAGAAAAAAEAAAIAAAAAAQAACgAAAAABAAAEAAAAAAEAAAAAAAAAAQAAAgAAAAABAAAKAAAAAAEAAAQAAAAAAQAAAAAAAAABAAACAAAAAAEAAAgAAAAAAgAAAgAAAAABAAAIAAAAAAIAAAIAAAAAAQAABgAAAAABAAACAAAAAAEAAAYAAAAAAQAAAgAAAAABAAAGAAAAAAEAAAIAAAAAAQAABgAAAAABAAACAAAAAAEAAAYAAAAAAQAAAgAAAAADAAAEAAAAAAEAAAYAAAAAAQAAAgAAAAABAAAGAAAAAAEAAAIAAAAAAQAABgAAAAABAAACAAAAAAEAAAoAAAAAAQAABAAAAAABAAAAAAAAAAEAAAIAAAAAAQAABAAAAAABAAAKAAAAAAEAAAQAAAAAAQAAAAAAAAABAAACAAAAAAEAAAQAAAAAAQAABgAAAAABAAACAAAAABxzdHNjAAAAAAAAAAEAAAABAAAAygAAAAEAAAM8c3RzegAAAAAAAAAAAAAAygAABW0AAAAaAAAAFAAAAB4AAAAUAAAAHAAAAB0AAAAcAAAAFAAAABwAAAAbAAAAEwAAABMAAAAWAAAAFAAAAB8AAAAdAAAAFgAAABIAAAAWAAAAEAAAABQAAAATAAAAHgAAACAAAAAVAAAAEgAAACEAAAAVAAAAEwAAABQAAAAeAAAAHQAAABYAAAAUAAAAFgAAABAAAAATAAAAFAAAAB4AAAArAAAAFgAAABQAAAAgAAAAFgAAABIAAAAiAAAAFQAAABMAAAAUAAAAFgAAABAAAAATAAAAEwAAAB4AAAAhAAAAFAAAAB0AAAAVAAAAEAAAABQAAAATAAAAHQAAABYAAAATAAAAHgAAACEAAAAUAAAAHQAAABwAAAATAAAAHQAAAB8AAAAUAAAAHAAAABMAAAATAAAAIgAAABQAAAAeAAAAFAAAABwAAAAdAAAAFgAAABQAAAAdAAAAFgAAABQAAAAhAAAAFAAAAB8AAAAUAAAAFAAAABMAAAAgAAAAFAAAABQAAAAdAAAAHAAAAB8AAAAWAAAAEgAAACEAAAAWAAAAFAAAAB4AAAATAAAAEQAAAB4AAAAbAAAAEgAAABQAAAATAAAAHQAAABwAAAAdAAAAHQAAACYAAAAWAAAAFAAAABMAAAAeAAAAHwAAABQAAAATAAAAFAAAADEAAAAVAAAAFAAAABMAAAAfAAAAJAAAABQAAAAdAAAAEwAAABMAAAAbAAAAGAAAABQAAAAUAAAAHQAAABYAAAASAAAAIAAAABQAAAAcAAAAIwAAABUAAAATAAAAEwAAACsAAAAUAAAAHwAAAB0AAAAcAAAAJAAAABQAAAAfAAAAFAAAABMAAAAUAAAAFgAAABQAAAAUAAAAFAAAAB4AAAAWAAAAEgAAACEAAAAWAAAAFgAAACIAAAAUAAAAIAAAABQAAAAgAAAAFAAAACAAAAAUAAAAIAAAABMAAAAcAAAAHQAAAB0AAAAhAAAAFAAAAB8AAAAUAAAAIAAAABMAAAAcAAAAFAAAABMAAAAUAAAAHQAAABoAAAASAAAAEwAAABMAAAAdAAAAIAAAACkAAAAUc3RjbwAAAAAAAAABAAAAMAAAAGJ1ZHRhAAAAWm1ldGEAAAAAAAAAIWhkbHIAAAAAAAAAAG1kaXJhcHBsAAAAAAAAAAAAAAAALWlsc3QAAAAlqXRvbwAAAB1kYXRhAAAAAQAAAABMYXZmNTcuNDEuMTAw\" type=\"video/mp4\" />\n",
       "             </video>"
      ],
      "text/plain": [
       "<IPython.core.display.HTML object>"
      ]
     },
     "execution_count": 8,
     "metadata": {},
     "output_type": "execute_result"
    }
   ],
   "source": [
    "# Initialize the game\n",
    "env = Environment(grid_size=size, max_time=T, temperature=temperature)\n",
    "\n",
    "# Initialize the agent!\n",
    "agent = RandomAgent()\n",
    "\n",
    "test(agent, env, epochs_test, prefix='random')\n",
    "HTML(display_videos('random0.mp4'))"
   ]
  },
  {
   "cell_type": "markdown",
   "metadata": {},
   "source": [
    "***\n",
    "## DQN"
   ]
  },
  {
   "cell_type": "markdown",
   "metadata": {},
   "source": [
    "Let us assume here that $T=\\infty$.\n",
    "\n",
    "***\n",
    "__Question 5__ Let $\\pi$ be a policy, show that:\n",
    "\n",
    "\\begin{equation*}\n",
    "Q^{\\pi}(s,a)=E_{(s',a')\\sim p(.|s,a)}[r(s,a)+\\gamma Q^{\\pi}(s',a')]\n",
    "\\end{equation*}\n",
    "\n",
    "Then, show that for the optimal policy $\\pi^*$ (we assume its existence), the following holds: \n",
    "\n",
    "\\begin{equation*}\n",
    "Q^{*}(s,a)=E_{s'\\sim \\pi^*(.|s,a)}[r(s,a)+\\gamma\\max_{a'}Q^{*}(s',a')].\n",
    "\\end{equation*}\n",
    "Finally, deduce that a plausible objective is:\n",
    "\n",
    "\\begin{equation*}\n",
    "\\mathcal{L}(\\theta)=E_{s' \\sim \\pi^*(.|s,a)}\\Vert r+\\gamma\\max\\max_{a'}Q(s',a',\\theta)-Q(s,a,\\theta)\\Vert^{2}.\n",
    "\\end{equation*}\n",
    "\n",
    "\n"
   ]
  },
  {
   "cell_type": "markdown",
   "metadata": {},
   "source": [
    "> We have that:\n",
    "\\begin{align*}\n",
    "Q^{\\pi}(s,a) &= E_{p^{\\pi}}[\\sum_{t=1}^{\\infty}\\gamma^{t}r(s_{t},a_{t})|s_{0}=s,a_{0}=a] \\\\\n",
    "&= E_{p^{\\pi}}[r(s_{1},a_{1})|s_{0}=s,a_{0}=a] + E_{p^{\\pi}}[\\sum_{t=2}^{\\infty}\\gamma^{t}r(s_{t},a_{t})|s_{0}=s,a_{0}=a]\\\\\n",
    "&= E_{(s',a')\\sim p^{\\pi}(.|s,a)}[r(s,a)|s_{0}=s,a_{0}=a] + \\gamma E_{(s',a')\\sim p^{\\pi}(.|s,a)}[\\sum_{t=1}^{\\infty}\\gamma^{t}r(s_{t},a_{t})|s_{0}=s',a_{0}=a']\\\\\n",
    "&= E_{(s',a')\\sim p(.|s,a)}[r(s,a)+\\gamma Q^{\\pi}(s',a')] \\\\\n",
    "\\end{align*}\n",
    "Then we have:\n",
    "\\begin{align*} Q^*(s,a) &= \\max_{\\pi}Q^\\pi(s,a) \\end{align*}\n",
    "Thus with the previous equality we have for $\\pi^* \\in \\text{argmax}_{\\pi} Q^\\pi(s,a)$:\n",
    "\\begin{align*}\n",
    "Q^{*}(s,a) &= \\max_{a'}E_{s'\\sim \\pi^*(.|s,a)}[r(s,a)+\\gamma Q^*(s',a')] \\\\\n",
    "&=E_{s'\\sim \\pi^*(.|s,a)}[r(s,a)+\\gamma\\max_{a'}Q^{\\pi}(s',a')]\n",
    "\\end{align*}\n",
    " from which we can formulate the following potential learning objective:\n",
    "\\begin{align*}\n",
    "\\mathcal{L}(\\theta)&= E_{s' \\sim \\pi^*(.|s,a)}\\Vert Q^*(s,a)-Q(s,a,\\theta)\\Vert^{2}\\\\\n",
    "&= E_{s' \\sim \\pi^*(.|s,a)}\\Vert r+\\gamma\\max\\max_{a'}Q(s',a',\\theta)-Q(s,a,\\theta)\\Vert^{2}.\n",
    "\\end{align*}\n"
   ]
  },
  {
   "cell_type": "markdown",
   "metadata": {},
   "source": [
    "***\n",
    "The DQN-learning algorithm relies on these derivations to train the parameters $\\theta$ of a Deep Neural Network:\n",
    "\n",
    "1. At the state $s_t$, select the action $a_t$ with best reward using $Q_t$ and store the results;\n",
    "\n",
    "2. Obtain the new state $s_{t+1}$ from the environment $p$;\n",
    "\n",
    "3. Store $(s_t,a_t,s_{t+1})$;\n",
    "\n",
    "4. Obtain $Q_{t+1}$ by minimizing  $\\mathcal{L}$ from a recovered batch from the previously stored results.\n",
    "\n",
    "***\n",
    "__Question 6__ Implement the class ```Memory``` that stores moves (in a replay buffer) via ```remember``` and provides a ```random_access``` to these. Specify a maximum memory size to avoid side effects. You can for example use a ```list()``` and set by default ```max_memory=100```."
   ]
  },
  {
   "cell_type": "code",
   "execution_count": 9,
   "metadata": {},
   "outputs": [],
   "source": [
    "class Memory(object):\n",
    "    def __init__(self, max_memory=100):\n",
    "        self.max_memory = max_memory\n",
    "        self.memory = list()\n",
    "\n",
    "    def remember(self, m):\n",
    "        self.memory.append(m)\n",
    "        self.memory = self.memory[-self.max_memory:]\n",
    "\n",
    "    def random_access(self):\n",
    "        return self.memory[np.random.randint(len(self.memory))]"
   ]
  },
  {
   "cell_type": "markdown",
   "metadata": {},
   "source": [
    "***\n",
    "The pipeline we will use for training is given below:"
   ]
  },
  {
   "cell_type": "code",
   "execution_count": 10,
   "metadata": {},
   "outputs": [],
   "source": [
    "def train(agent,env,epoch,prefix=''):\n",
    "    # Number of won games\n",
    "    score = 0\n",
    "    loss = 0\n",
    "\n",
    "    for e in range(epoch):\n",
    "        # At each epoch, we restart to a fresh game and get the initial state\n",
    "        state = env.reset()\n",
    "        # This assumes that the games will terminate\n",
    "        game_over = False\n",
    "\n",
    "        win = 0\n",
    "        lose = 0\n",
    "\n",
    "        while not game_over:\n",
    "            # The agent performs an action\n",
    "            action = agent.act(state)\n",
    "\n",
    "            # Apply an action to the environment, get the next state, the reward\n",
    "            # and if the games end\n",
    "            prev_state = state\n",
    "            state, reward, game_over = env.act(action)\n",
    "\n",
    "            # Update the counters\n",
    "            if reward > 0:\n",
    "                win = win + reward\n",
    "            if reward < 0:\n",
    "                lose = lose - reward\n",
    "\n",
    "            # Apply the reinforcement strategy\n",
    "            loss = agent.reinforce(prev_state, state,  action, reward, game_over)\n",
    "\n",
    "        # Save as a mp4\n",
    "        if e % 10 == 0:\n",
    "            env.draw(prefix+str(e))\n",
    "\n",
    "        # Update stats\n",
    "        score += win-lose\n",
    "\n",
    "        print(\"Epoch {:03d}/{:03d} | Loss {:.4f} | Win/lose count {}/{} ({})\"\n",
    "              .format(e, epoch, loss, win, lose, win-lose))\n",
    "        agent.save(name_weights=prefix+'model.h5',name_model=prefix+'model.json')"
   ]
  },
  {
   "cell_type": "markdown",
   "metadata": {},
   "source": [
    "***\n",
    "__Question 7__ Implement the DQN training algorithm using a cascade of fully connected layers. You can use different learning rate, batch size or memory size parameters. In particular, the loss might oscillate while the player will start to win the games. You have to find a good criterium."
   ]
  },
  {
   "cell_type": "code",
   "execution_count": 11,
   "metadata": {},
   "outputs": [],
   "source": [
    "class DQN(Agent):\n",
    "    def __init__(self, grid_size,  epsilon = 0.1, memory_size=100, batch_size = 16,n_state=2):\n",
    "        super(DQN, self).__init__(epsilon = epsilon)\n",
    "\n",
    "        # Discount for Q learning\n",
    "        self.discount = 0.99\n",
    "        \n",
    "        self.grid_size = grid_size\n",
    "        \n",
    "        # number of state\n",
    "        self.n_state = n_state\n",
    "\n",
    "        # Memory\n",
    "        self.memory = Memory(memory_size)\n",
    "        \n",
    "        # Batch size when learning\n",
    "        self.batch_size = batch_size\n",
    "\n",
    "    def learned_act(self, s):\n",
    "        return np.argmax(self.model.predict(np.expand_dims(s, axis = 0)))\n",
    "\n",
    "    def reinforce(self, s_, n_s_, a_, r_, game_over_):\n",
    "        # Two steps: first memorize the states, second learn from the pool\n",
    "\n",
    "        self.memory.remember([s_, n_s_, a_, r_, game_over_])\n",
    "        \n",
    "        input_states = np.zeros((self.batch_size, 5, 5, self.n_state))\n",
    "        target_q = np.zeros((self.batch_size, 4))\n",
    "        \n",
    "        for i in range(self.batch_size):\n",
    "            ######## FILL IN\n",
    "            s_, n_s_, a_, r_, game_over_ = self.memory.random_access()\n",
    "            input_states[i] = s_\n",
    "            target_q[i] = self.model.predict(np.expand_dims(s_, axis = 0))\n",
    "            \n",
    "            if game_over_:\n",
    "                ######## FILL IN\n",
    "                target_q[i][a_] = r_\n",
    "            else:\n",
    "                ######## FILL IN\n",
    "                target_q[i][a_] = r_ + self.discount * np.max(self.model.predict(np.expand_dims(n_s_, axis = 0)))\n",
    "        ######## FILL IN\n",
    "        # HINT: Clip the target to avoid exploiding gradients.. -- clipping is a bit tighter\n",
    "        target_q = np.clip(target_q, -3, 3)\n",
    "\n",
    "        l = self.model.train_on_batch(input_states, target_q)\n",
    "\n",
    "\n",
    "        return l\n",
    "\n",
    "    def save(self,name_weights='model.h5',name_model='model.json'):\n",
    "        self.model.save_weights(name_weights, overwrite=True)\n",
    "        with open(name_model, \"w\") as outfile:\n",
    "            json.dump(self.model.to_json(), outfile)\n",
    "            \n",
    "    def load(self,name_weights='model.h5',name_model='model.json'):\n",
    "        with open(name_model, \"r\") as jfile:\n",
    "            model = model_from_json(json.load(jfile))\n",
    "        model.load_weights(name_weights)\n",
    "        model.compile(\"sgd\", \"mse\")\n",
    "        self.model = model\n",
    "\n",
    "            \n",
    "class DQN_FC(DQN):\n",
    "    def __init__(self, *args, lr=0.1,**kwargs):\n",
    "        super(DQN_FC, self).__init__( *args,**kwargs)\n",
    "        \n",
    "        # NN Model\n",
    "        model = Sequential()\n",
    "        model.add(Flatten(input_shape = (5,5, self.n_state)))\n",
    "        model.add(Dense(64, activation = 'relu'))\n",
    "        model.add(Dense(32, activation = 'relu'))\n",
    "        model.add(Dense(4))\n",
    "        \n",
    "        model.compile(sgd(lr=lr, decay=1e-4, momentum=0.0), \"mse\")\n",
    "        self.model = model\n",
    "        "
   ]
  },
  {
   "cell_type": "code",
   "execution_count": 12,
   "metadata": {},
   "outputs": [
    {
     "name": "stdout",
     "output_type": "stream",
     "text": [
      "Epoch 000/031 | Loss 0.0074 | Win/lose count 6.0/9.0 (-3.0)\n",
      "Epoch 001/031 | Loss 0.0058 | Win/lose count 4.0/5.0 (-1.0)\n",
      "Epoch 002/031 | Loss 0.0207 | Win/lose count 2.5/3.0 (-0.5)\n",
      "Epoch 003/031 | Loss 0.0047 | Win/lose count 3.5/3.0 (0.5)\n",
      "Epoch 004/031 | Loss 0.0011 | Win/lose count 5.5/3.0 (2.5)\n",
      "Epoch 005/031 | Loss 0.0031 | Win/lose count 3.0/3.0 (0.0)\n",
      "Epoch 006/031 | Loss 0.0026 | Win/lose count 3.5/1.0 (2.5)\n",
      "Epoch 007/031 | Loss 0.0059 | Win/lose count 5.5/1.0 (4.5)\n",
      "Epoch 008/031 | Loss 0.0070 | Win/lose count 3.0/2.0 (1.0)\n",
      "Epoch 009/031 | Loss 0.0062 | Win/lose count 1.5/0 (1.5)\n",
      "Epoch 010/031 | Loss 0.0153 | Win/lose count 2.5/4.0 (-1.5)\n",
      "Epoch 011/031 | Loss 0.0053 | Win/lose count 5.0/5.0 (0.0)\n",
      "Epoch 012/031 | Loss 0.0040 | Win/lose count 4.5/2.0 (2.5)\n",
      "Epoch 013/031 | Loss 0.0083 | Win/lose count 6.0/2.0 (4.0)\n",
      "Epoch 014/031 | Loss 0.0099 | Win/lose count 4.0/7.0 (-3.0)\n",
      "Epoch 015/031 | Loss 0.0049 | Win/lose count 6.5/3.0 (3.5)\n",
      "Epoch 016/031 | Loss 0.0020 | Win/lose count 2.5/2.0 (0.5)\n",
      "Epoch 017/031 | Loss 0.0017 | Win/lose count 2.0/1.0 (1.0)\n",
      "Epoch 018/031 | Loss 0.1045 | Win/lose count 4.5/6.0 (-1.5)\n",
      "Epoch 019/031 | Loss 0.0016 | Win/lose count 3.5/1.0 (2.5)\n",
      "Epoch 020/031 | Loss 0.0194 | Win/lose count 4.5/3.0 (1.5)\n",
      "Epoch 021/031 | Loss 0.0111 | Win/lose count 3.0/2.0 (1.0)\n",
      "Epoch 022/031 | Loss 0.0058 | Win/lose count 5.0/4.0 (1.0)\n",
      "Epoch 023/031 | Loss 0.0109 | Win/lose count 11.0/6.0 (5.0)\n",
      "Epoch 024/031 | Loss 0.0071 | Win/lose count 6.0/6.0 (0.0)\n",
      "Epoch 025/031 | Loss 0.0055 | Win/lose count 2.5/4.0 (-1.5)\n",
      "Epoch 026/031 | Loss 0.0022 | Win/lose count 3.5/0 (3.5)\n",
      "Epoch 027/031 | Loss 0.0018 | Win/lose count 2.0/0 (2.0)\n",
      "Epoch 028/031 | Loss 0.0032 | Win/lose count 9.5/4.0 (5.5)\n",
      "Epoch 029/031 | Loss 0.0033 | Win/lose count 6.0/3.0 (3.0)\n",
      "Epoch 030/031 | Loss 0.0024 | Win/lose count 8.5/4.0 (4.5)\n"
     ]
    },
    {
     "data": {
      "text/html": [
       "<video alt=\"test\" controls>\n",
       "                <source src=\"data:video/mp4;base64,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\" type=\"video/mp4\" />\n",
       "             </video>"
      ],
      "text/plain": [
       "<IPython.core.display.HTML object>"
      ]
     },
     "execution_count": 12,
     "metadata": {},
     "output_type": "execute_result"
    }
   ],
   "source": [
    "# parameters\n",
    "size = 13\n",
    "T = 200\n",
    "epochs_train = 31 # set small when debugging\n",
    "epochs_test = 10 # set small when debugging\n",
    "\n",
    "env = Environment(grid_size=size, max_time=T, temperature=0.3)\n",
    "agent = DQN_FC(size, lr=.1, epsilon = 0.1, memory_size=1000, batch_size = 16)\n",
    "train(agent, env, epochs_train, prefix='fc_train')\n",
    "HTML(display_videos('fc_train30.mp4'))"
   ]
  },
  {
   "cell_type": "markdown",
   "metadata": {},
   "source": [
    "***\n",
    "***\n",
    "__Question 8__ Implement the DQN training algorithm using a CNN (for example, 2 convolutional layers and one final fully connected layer)."
   ]
  },
  {
   "cell_type": "code",
   "execution_count": 13,
   "metadata": {},
   "outputs": [],
   "source": [
    "class DQN_CNN(DQN):\n",
    "    def __init__(self, *args,lr=0.1,**kwargs):\n",
    "        super(DQN_CNN, self).__init__(*args,**kwargs)\n",
    "        \n",
    "        ###### FILL IN\n",
    "        model = Sequential()\n",
    "        model.add(Conv2D(32, (3, 3), activation= 'relu' ,input_shape=(5, 5, self.n_state)))\n",
    "        model.add(Conv2D(16, (3, 3), activation= 'relu'))\n",
    "        model.add(Flatten())\n",
    "        model.add(Dense(4))\n",
    "        \n",
    "        model.compile(sgd(lr=lr, decay=1e-4, momentum=0.0), \"mse\")\n",
    "        self.model = model"
   ]
  },
  {
   "cell_type": "code",
   "execution_count": 14,
   "metadata": {},
   "outputs": [
    {
     "name": "stdout",
     "output_type": "stream",
     "text": [
      "Epoch 000/031 | Loss 0.0039 | Win/lose count 8.5/6.0 (2.5)\n",
      "Epoch 001/031 | Loss 0.0050 | Win/lose count 7.5/4.0 (3.5)\n",
      "Epoch 002/031 | Loss 0.0020 | Win/lose count 3.5/2.0 (1.5)\n",
      "Epoch 003/031 | Loss 0.0027 | Win/lose count 6.0/4.0 (2.0)\n",
      "Epoch 004/031 | Loss 0.0060 | Win/lose count 4.5/3.0 (1.5)\n",
      "Epoch 005/031 | Loss 0.0013 | Win/lose count 9.0/5.0 (4.0)\n",
      "Epoch 006/031 | Loss 0.0029 | Win/lose count 2.0/1.0 (1.0)\n",
      "Epoch 007/031 | Loss 0.0083 | Win/lose count 7.0/4.0 (3.0)\n",
      "Epoch 008/031 | Loss 0.0040 | Win/lose count 5.5/6.0 (-0.5)\n",
      "Epoch 009/031 | Loss 0.0024 | Win/lose count 8.0/4.0 (4.0)\n",
      "Epoch 010/031 | Loss 0.0022 | Win/lose count 3.0/4.0 (-1.0)\n",
      "Epoch 011/031 | Loss 0.0028 | Win/lose count 3.0/2.0 (1.0)\n",
      "Epoch 012/031 | Loss 0.0010 | Win/lose count 9.5/5.0 (4.5)\n",
      "Epoch 013/031 | Loss 0.0015 | Win/lose count 11.0/2.0 (9.0)\n",
      "Epoch 014/031 | Loss 0.0009 | Win/lose count 16.0/3.0 (13.0)\n",
      "Epoch 015/031 | Loss 0.0016 | Win/lose count 15.5/5.0 (10.5)\n",
      "Epoch 016/031 | Loss 0.0035 | Win/lose count 20.0/1.0 (19.0)\n",
      "Epoch 017/031 | Loss 0.0014 | Win/lose count 9.5/1.0 (8.5)\n",
      "Epoch 018/031 | Loss 0.0031 | Win/lose count 13.0/2.0 (11.0)\n",
      "Epoch 019/031 | Loss 0.0006 | Win/lose count 15.5/4.0 (11.5)\n",
      "Epoch 020/031 | Loss 0.0029 | Win/lose count 8.5/4.0 (4.5)\n",
      "Epoch 021/031 | Loss 0.0016 | Win/lose count 13.0/3.0 (10.0)\n",
      "Epoch 022/031 | Loss 0.0014 | Win/lose count 14.0/3.0 (11.0)\n",
      "Epoch 023/031 | Loss 0.0054 | Win/lose count 22.5/3.0 (19.5)\n",
      "Epoch 024/031 | Loss 0.0014 | Win/lose count 16.0/2.0 (14.0)\n",
      "Epoch 025/031 | Loss 0.0026 | Win/lose count 9.5/3.0 (6.5)\n",
      "Epoch 026/031 | Loss 0.0016 | Win/lose count 6.5/2.0 (4.5)\n",
      "Epoch 027/031 | Loss 0.0019 | Win/lose count 9.5/3.0 (6.5)\n",
      "Epoch 028/031 | Loss 0.0016 | Win/lose count 7.5/1.0 (6.5)\n",
      "Epoch 029/031 | Loss 0.0982 | Win/lose count 9.0/0 (9.0)\n",
      "Epoch 030/031 | Loss 0.0017 | Win/lose count 8.0/4.0 (4.0)\n"
     ]
    },
    {
     "data": {
      "text/html": [
       "<video alt=\"test\" controls>\n",
       "                <source src=\"data:video/mp4;base64,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\" type=\"video/mp4\" />\n",
       "             </video>"
      ],
      "text/plain": [
       "<IPython.core.display.HTML object>"
      ]
     },
     "execution_count": 14,
     "metadata": {},
     "output_type": "execute_result"
    }
   ],
   "source": [
    "env = Environment(grid_size=size, max_time=T, temperature=0.3)\n",
    "agent = DQN_CNN(size, lr=.1, epsilon = 0.1, memory_size=2000, batch_size = 16)\n",
    "train(agent,env,epochs_train,prefix='cnn_train')\n",
    "HTML(display_videos('cnn_train30.mp4'))"
   ]
  },
  {
   "cell_type": "markdown",
   "metadata": {},
   "source": [
    "***\n",
    "***\n",
    "__Question 9__ Test both algorithms and compare their performances. Which issue(s) do you observe? Observe also different behaviors by changing the temperature."
   ]
  },
  {
   "cell_type": "code",
   "execution_count": 15,
   "metadata": {},
   "outputs": [
    {
     "name": "stdout",
     "output_type": "stream",
     "text": [
      "Test of the CNN\n",
      "Win/lose count 4.5/0. Average score (4.5)\n",
      "Win/lose count 0.5/0. Average score (2.5)\n",
      "Win/lose count 4.5/0. Average score (3.1666666666666665)\n",
      "Win/lose count 5.0/2.0. Average score (3.125)\n",
      "Win/lose count 1.0/0. Average score (2.7)\n",
      "Win/lose count 0/0. Average score (2.25)\n",
      "Win/lose count 1.5/1.0. Average score (2.0)\n",
      "Win/lose count 0/0. Average score (1.75)\n",
      "Win/lose count 0.5/0. Average score (1.6111111111111112)\n",
      "Win/lose count 0.5/0. Average score (1.5)\n",
      "Final score: 1.5\n",
      "Test of the FC\n",
      "Win/lose count 1.0/1.0. Average score (0.0)\n",
      "Win/lose count 0/0. Average score (0.0)\n",
      "Win/lose count 1.0/1.0. Average score (0.0)\n",
      "Win/lose count 4.5/1.0. Average score (0.875)\n",
      "Win/lose count 0.5/0. Average score (0.8)\n",
      "Win/lose count 3.0/1.0. Average score (1.0)\n",
      "Win/lose count 2.5/0. Average score (1.2142857142857142)\n",
      "Win/lose count 0.5/1.0. Average score (1.0)\n",
      "Win/lose count 0/0. Average score (0.8888888888888888)\n",
      "Win/lose count 0/0. Average score (0.8)\n",
      "Final score: 0.8\n"
     ]
    }
   ],
   "source": [
    "env = Environment(grid_size=size, max_time=T,temperature=0.3)\n",
    "agent_cnn = DQN_CNN(size, lr=.1, epsilon = 0.1, memory_size=2000, batch_size = 32)\n",
    "agent_cnn.load(name_weights='cnn_trainmodel.h5',name_model='cnn_trainmodel.json')\n",
    "\n",
    "agent_fc = DQN_FC(size, lr=.1, epsilon = 0.1, memory_size=2000, batch_size = 32)\n",
    "agent_cnn.load(name_weights='fc_trainmodel.h5',name_model='fc_trainmodel.json')\n",
    "print('Test of the CNN')\n",
    "test(agent_cnn,env,epochs_test,prefix='cnn_test')\n",
    "print('Test of the FC')\n",
    "test(agent_fc,env,epochs_test,prefix='fc_test')"
   ]
  },
  {
   "cell_type": "code",
   "execution_count": 16,
   "metadata": {},
   "outputs": [
    {
     "data": {
      "text/html": [
       "<video alt=\"test\" controls>\n",
       "                <source src=\"data:video/mp4;base64,AAAAIGZ0eXBpc29tAAACAGlzb21pc28yYXZjMW1wNDEAAAAIZnJlZQAAFPRtZGF0AAACrAYF//+o3EXpvebZSLeWLNgg2SPu73gyNjQgLSBjb3JlIDE0OCByMjc2IDNmNWVkNTYgLSBILjI2NC9NUEVHLTQgQVZDIGNvZGVjIC0gQ29weWxlZnQgMjAwMy0yMDE2IC0gaHR0cDovL3d3dy52aWRlb2xhbi5vcmcveDI2NC5odG1sIC0gb3B0aW9uczogY2FiYWM9MSByZWY9MyBkZWJsb2NrPTE6MDowIGFuYWx5c2U9MHgzOjB4MTEzIG1lPWhleCBzdWJtZT03IHBzeT0xIHBzeV9yZD0xLjAwOjAuMDAgbWl4ZWRfcmVmPTEgbWVfcmFuZ2U9MTYgY2hyb21hX21lPTEgdHJlbGxpcz0xIDh4OGRjdD0xIGNxbT0wIGRlYWR6b25lPTIxLDExIGZhc3RfcHNraXA9MSBjaHJvbWFfcXBfb2Zmc2V0PTQgdGhyZWFkcz02IGxvb2thaGVhZF90aHJlYWRzPTEgc2xpY2VkX3RocmVhZHM9MCBucj0wIGRlY2ltYXRlPTEgaW50ZXJsYWNlZD0wIGJsdXJheV9jb21wYXQ9MCBjb25zdHJhaW5lZF9pbnRyYT0wIGJmcmFtZXM9MyBiX3B5cmFtaWQ9MiBiX2FkYXB0PTEgYl9iaWFzPTAgZGlyZWN0PTEgd2VpZ2h0Yj0xIG9wZW5fZ29wPTAgd2VpZ2h0cD0yIGtleWludD0yNTAga2V5aW50X21pbj0yNSBzY2VuZWN1dD00MCBpbnRyYV9yZWZyZXNoPTAgcmNfbG9va2FoZWFkPTQwIHJjPWNyZiBtYnRyZWU9MSBjcmY9MjMuMCBxY29tcD0wLjYwIHFwbWluPTAgcXBtYXg9NjkgcXBzdGVwPTQgaXBfcmF0aW89MS40MCBhcT0xOjEuMDAAgAAAAs1liIQAN//+9of4FNlYE7p//T/gus6fOX+dsAE02AFIbmCn/DU0XwKS2//AplseTrp8w/H8T8KZqJJSu4M2ksisUmwYh354EGqdJSDaCFEow737cL7/Qh377/6p/9/GqbuWx0vC0BX7WMrxXx18UssDKCwrBsVqDlv7aOoZH2XOSMyWF5SzInQxZMZSh8JMOAVOjfmCNE/NIvaA/UP0jz58x7EXVYICz80deo9lV7E00jYHuY3D4xmGeEonegJHkeEJ1tFgI09ClhzilJFft/hEu/qBQNZS9dPH2MdEfMlGbDs7PoqnmQDsHBZTq53pMR2r51GhjNjNKNGo13CMjsjXeKyON002qEaIqr9yGFHnx0yOkJjxJyXZD1Mr8UZXEqRO+sSf6OQNgBsfm4OQae4+IR8M7z47sU8vNree4IHlJEHRpS6Hgy2o2ToXlQhhXRK6KvlSHMtsL3ohcVXuZMHyrtUsvth7T/EDoA5KchR0q+zLVN5nr2eyjWZgeg9IDpdK9z6vwpes8o5lmO20f1OSA+hzbtulwZ0yJ7WBwUyJWoTmsjZ7arqVBkmWAo1v+l41KdTDJDVpr/WQjDmbViBW8jVxtrT9KHELzoUNBzJ5JK+cR2USKsGDgW5bZGUCmyfzzqA3OgR4+B+YTOsIL1Gk5XwUsD9pv2YOirOYSJ5lwVd1ooTWMRhm/CFWEtQFmA6s1crEpDpJMDHNTDZoAhqD0eTCEbOIHYPAk628P8MkOjc2gWsGSVR7/dNoSt0/OpGiJX/7gMUUDX/6TJhSRpV8Bd93u0UWCB0hNcZOpKPbWJ07Q1YNkympjAJME5MzKyeXriUolj7KzQtAXGFYFL0Jm1scoZ8g8pAUKARS66T+XpzpLQ/qvZslj/0UP8QDXDlCAUwqX0tewahSuTBY8GuQIy8KKqswaobURt292zmltJ3VfqBG53Sq5lu4G1EAAAAVQZohbEN//qeEAX9n1TW6H7Q4d3ekAAAAGEGaQjwhkymEO//+qZYAd/2l/O6QphEYEQAAABdBmmRJ4Q8mUwU8O//+qZYATH48/ki+YAAAAA8BnoNqQr8AfGvmh1oq1oEAAAASQZqISeEPJlMCHf/+qZYAAJWBAAAADEGepkURPC//AACygQAAABABnsV0Qr8Aw9lXdX47v4HBAAAADwGex2pCvwB7MHc5SO5b/AAAABNBmsxJqEFomUwId//+qZYAAJWAAAAADEGe6kURLC//AACygQAAABABnwl0Qr8Aw9lXdX47v4HAAAAADwGfC2pCvwB7MHc5SO5b/AAAABNBmxBJqEFsmUwId//+qZYAAJWBAAAADEGfLkUVLC//AACygQAAABABn010Qr8Aw9lXdX47v4HBAAAADwGfT2pCvwB7MHc5SO5b/AAAABNBm1RJqEFsmUwId//+qZYAAJWAAAAADEGfckUVLC//AACygQAAABABn5F0Qr8Aw9lXdX47v4HAAAAADwGfk2pCvwB7MHc5SO5b/AAAABNBm5hJqEFsmUwId//+qZYAAJWBAAAADEGftkUVLC//AACygAAAABABn9V0Qr8Aw9lXdX47v4HBAAAADwGf12pCvwB7MHc5SO5b/QAAABNBm9xJqEFsmUwId//+qZYAAJWAAAAADEGf+kUVLC//AACygQAAABABnhl0Qr8Aw9lXdX47v4HAAAAADwGeG2pCvwB7MHc5SO5b/QAAABNBmgBJqEFsmUwId//+qZYAAJWBAAAADEGePkUVLC//AACygAAAABABnl10Qr8Aw9lXdX47v4HAAAAADwGeX2pCvwB7MHc5SO5b/QAAABNBmkRJqEFsmUwId//+qZYAAJWAAAAADEGeYkUVLC//AACygQAAABABnoF0Qr8Aw9lXdX47v4HAAAAADwGeg2pCvwB7MHc5SO5b/QAAABNBmohJqEFsmUwId//+qZYAAJWBAAAADEGepkUVLC//AACygQAAABABnsV0Qr8Aw9lXdX47v4HBAAAADwGex2pCvwB7MHc5SO5b/AAAABNBmsxJqEFsmUwId//+qZYAAJWAAAAADEGe6kUVLC//AACygQAAABABnwl0Qr8Aw9lXdX47v4HAAAAADwGfC2pCvwB7MHc5SO5b/AAAABNBmxBJqEFsmUwId//+qZYAAJWBAAAADEGfLkUVLC//AACygQAAABABn010Qr8Aw9lXdX47v4HBAAAADwGfT2pCvwB7MHc5SO5b/AAAABNBm1RJqEFsmUwId//+qZYAAJWAAAAADEGfckUVLC//AACygQAAABABn5F0Qr8Aw9lXdX47v4HAAAAADwGfk2pCvwB7MHc5SO5b/AAAABNBm5hJqEFsmUwId//+qZYAAJWBAAAADEGftkUVLC//AACygAAAABABn9V0Qr8Aw9lXdX47v4HBAAAADwGf12pCvwB7MHc5SO5b/QAAABNBm9xJqEFsmUwId//+qZYAAJWAAAAADEGf+kUVLC//AACygQAAABABnhl0Qr8Aw9lXdX47v4HAAAAADwGeG2pCvwB7MHc5SO5b/QAAABNBmgBJqEFsmUwId//+qZYAAJWBAAAADEGePkUVLC//AACygAAAABABnl10Qr8Aw9lXdX47v4HAAAAADwGeX2pCvwB7MHc5SO5b/QAAABNBmkRJqEFsmUwId//+qZYAAJWAAAAADEGeYkUVLC//AACygQAAABABnoF0Qr8Aw9lXdX47v4HAAAAADwGeg2pCvwB7MHc5SO5b/QAAABNBmohJqEFsmUwId//+qZYAAJWBAAAADEGepkUVLC//AACygQAAABABnsV0Qr8Aw9lXdX47v4HBAAAADwGex2pCvwB7MHc5SO5b/AAAABNBmsxJqEFsmUwId//+qZYAAJWAAAAADEGe6kUVLC//AACygQAAABABnwl0Qr8Aw9lXdX47v4HAAAAADwGfC2pCvwB7MHc5SO5b/AAAABNBmxBJqEFsmUwId//+qZYAAJWBAAAADEGfLkUVLC//AACygQAAABABn010Qr8Aw9lXdX47v4HBAAAADwGfT2pCvwB7MHc5SO5b/AAAABNBm1RJqEFsmUwId//+qZYAAJWAAAAADEGfckUVLC//AACygQAAABABn5F0Qr8Aw9lXdX47v4HAAAAADwGfk2pCvwB7MHc5SO5b/AAAABNBm5hJqEFsmUwId//+qZYAAJWBAAAADEGftkUVLC//AACygAAAABABn9V0Qr8Aw9lXdX47v4HBAAAADwGf12pCvwB7MHc5SO5b/QAAABNBm9xJqEFsmUwId//+qZYAAJWAAAAADEGf+kUVLC//AACygQAAABABnhl0Qr8Aw9lXdX47v4HAAAAADwGeG2pCvwB7MHc5SO5b/QAAABNBmgBJqEFsmUwId//+qZYAAJWBAAAADEGePkUVLC//AACygAAAABABnl10Qr8Aw9lXdX47v4HAAAAADwGeX2pCvwB7MHc5SO5b/QAAABNBmkRJqEFsmUwId//+qZYAAJWAAAAADEGeYkUVLC//AACygQAAABABnoF0Qr8Aw9lXdX47v4HAAAAADwGeg2pCvwB7MHc5SO5b/QAAABNBmohJqEFsmUwId//+qZYAAJWBAAAADEGepkUVLC//AACygQAAABABnsV0Qr8Aw9lXdX47v4HBAAAADwGex2pCvwB7MHc5SO5b/AAAABNBmsxJqEFsmUwId//+qZYAAJWAAAAADEGe6kUVLC//AACygQAAABABnwl0Qr8Aw9lXdX47v4HAAAAADwGfC2pCvwB7MHc5SO5b/AAAABNBmxBJqEFsmUwId//+qZYAAJWBAAAADEGfLkUVLC//AACygQAAABABn010Qr8Aw9lXdX47v4HBAAAADwGfT2pCvwB7MHc5SO5b/AAAABNBm1RJqEFsmUwId//+qZYAAJWAAAAADEGfckUVLC//AACygQAAABABn5F0Qr8Aw9lXdX47v4HAAAAADwGfk2pCvwB7MHc5SO5b/AAAABNBm5hJqEFsmUwId//+qZYAAJWBAAAADEGftkUVLC//AACygAAAABABn9V0Qr8Aw9lXdX47v4HBAAAADwGf12pCvwB7MHc5SO5b/QAAABNBm9xJqEFsmUwId//+qZYAAJWAAAAADEGf+kUVLC//AACygQAAABABnhl0Qr8Aw9lXdX47v4HAAAAADwGeG2pCvwB7MHc5SO5b/QAAABNBmgBJqEFsmUwId//+qZYAAJWBAAAADEGePkUVLC//AACygAAAABABnl10Qr8Aw9lXdX47v4HAAAAADwGeX2pCvwB7MHc5SO5b/QAAABNBmkRJqEFsmUwId//+qZYAAJWAAAAADEGeYkUVLC//AACygQAAABABnoF0Qr8Aw9lXdX47v4HAAAAADwGeg2pCvwB7MHc5SO5b/QAAABNBmohJqEFsmUwId//+qZYAAJWBAAAADEGepkUVLC//AACygQAAABABnsV0Qr8Aw9lXdX47v4HBAAAADwGex2pCvwB7MHc5SO5b/AAAABNBmsxJqEFsmUwId//+qZYAAJWAAAAADEGe6kUVLC//AACygQAAABABnwl0Qr8Aw9lXdX47v4HAAAAADwGfC2pCvwB7MHc5SO5b/AAAABNBmxBJqEFsmUwId//+qZYAAJWBAAAADEGfLkUVLC//AACygQAAABABn010Qr8Aw9lXdX47v4HBAAAADwGfT2pCvwB7MHc5SO5b/AAAABNBm1RJqEFsmUwId//+qZYAAJWAAAAADEGfckUVLC//AACygQAAABABn5F0Qr8Aw9lXdX47v4HAAAAADwGfk2pCvwB7MHc5SO5b/AAAABNBm5hJqEFsmUwId//+qZYAAJWBAAAADEGftkUVLC//AACygAAAABABn9V0Qr8Aw9lXdX47v4HBAAAADwGf12pCvwB7MHc5SO5b/QAAABNBm9xJqEFsmUwId//+qZYAAJWAAAAADEGf+kUVLC//AACygQAAABABnhl0Qr8Aw9lXdX47v4HAAAAADwGeG2pCvwB7MHc5SO5b/QAAABNBmgBJqEFsmUwId//+qZYAAJWBAAAADEGePkUVLC//AACygAAAABABnl10Qr8Aw9lXdX47v4HAAAAADwGeX2pCvwB7MHc5SO5b/QAAABNBmkRJqEFsmUwId//+qZYAAJWAAAAADEGeYkUVLC//AACygQAAABABnoF0Qr8Aw9lXdX47v4HAAAAADwGeg2pCvwB7MHc5SO5b/QAAABNBmohJqEFsmUwId//+qZYAAJWBAAAADEGepkUVLC//AACygQAAABABnsV0Qr8Aw9lXdX47v4HBAAAADwGex2pCvwB7MHc5SO5b/AAAABNBmsxJqEFsmUwId//+qZYAAJWAAAAADEGe6kUVLC//AACygQAAABABnwl0Qr8Aw9lXdX47v4HAAAAADwGfC2pCvwB7MHc5SO5b/AAAABNBmxBJqEFsmUwId//+qZYAAJWBAAAADEGfLkUVLC//AACygQAAABABn010Qr8Aw9lXdX47v4HBAAAADwGfT2pCvwB7MHc5SO5b/AAAABNBm1RJqEFsmUwId//+qZYAAJWAAAAADEGfckUVLC//AACygQAAABABn5F0Qr8Aw9lXdX47v4HAAAAADwGfk2pCvwB7MHc5SO5b/AAAABNBm5hJqEFsmUwId//+qZYAAJWBAAAADEGftkUVLC//AACygAAAABABn9V0Qr8Aw9lXdX47v4HBAAAADwGf12pCvwB7MHc5SO5b/QAAABNBm9xJqEFsmUwId//+qZYAAJWAAAAADEGf+kUVLC//AACygQAAABABnhl0Qr8Aw9lXdX47v4HAAAAADwGeG2pCvwB7MHc5SO5b/QAAABJBmgBJqEFsmUwIb//+p4QAAScAAAAMQZ4+RRUsL/8AALKAAAAAEAGeXXRCvwDD2Vd1fju/gcAAAAAPAZ5fakK/AHswdzlI7lv9AAAAEkGaREmoQWyZTAhv//6nhAABJwAAAAxBnmJFFSwv/wAAsoEAAAAQAZ6BdEK/AMPZV3V+O7+BwAAAAA8BnoNqQr8AezB3OUjuW/0AAAASQZqISahBbJlMCF///oywAASNAAAADEGepkUVLC//AACygQAAABABnsV0Qr8Aw9lXdX47v4HBAAAADwGex2pCvwB7MHc5SO5b/AAAABpBmslLqEIQWyRGCCgH8gH9h4AhX/44QAARcAAADHltb292AAAAbG12aGQAAAAAAAAAAAAAAAAAAAPoAAAfkAABAAABAAAAAAAAAAAAAAAAAQAAAAAAAAAAAAAAAAAAAAEAAAAAAAAAAAAAAAAAAEAAAAAAAAAAAAAAAAAAAAAAAAAAAAAAAAAAAAAAAAACAAALo3RyYWsAAABcdGtoZAAAAAMAAAAAAAAAAAAAAAEAAAAAAAAfkAAAAAAAAAAAAAAAAAAAAAAAAQAAAAAAAAAAAAAAAAAAAAEAAAAAAAAAAAAAAAAAAEAAAAABEAAAARAAAAAAACRlZHRzAAAAHGVsc3QAAAAAAAAAAQAAH5AAAAQAAAEAAAAACxttZGlhAAAAIG1kaGQAAAAAAAAAAAAAAAAAADIAAAGUAFXEAAAAAAAtaGRscgAAAAAAAAAAdmlkZQAAAAAAAAAAAAAAAFZpZGVvSGFuZGxlcgAAAArGbWluZgAAABR2bWhkAAAAAQAAAAAAAAAAAAAAJGRpbmYAAAAcZHJlZgAAAAAAAAABAAAADHVybCAAAAABAAAKhnN0YmwAAACWc3RzZAAAAAAAAAABAAAAhmF2YzEAAAAAAAAAAQAAAAAAAAAAAAAAAAAAAAABEAEQAEgAAABIAAAAAAAAAAEAAAAAAAAAAAAAAAAAAAAAAAAAAAAAAAAAAAAAAAAAAAAY//8AAAAwYXZjQwH0AA3/4QAXZ/QADZGbKCIR0IAAAAMAgAAAGQeKFMsBAAZo6+PESEQAAAAYc3R0cwAAAAAAAAABAAAAygAAAgAAAAAUc3RzcwAAAAAAAAABAAAAAQAABlBjdHRzAAAAAAAAAMgAAAADAAAEAAAAAAEAAAYAAAAAAQAAAgAAAAABAAAKAAAAAAEAAAQAAAAAAQAAAAAAAAABAAACAAAAAAEAAAoAAAAAAQAABAAAAAABAAAAAAAAAAEAAAIAAAAAAQAACgAAAAABAAAEAAAAAAEAAAAAAAAAAQAAAgAAAAABAAAKAAAAAAEAAAQAAAAAAQAAAAAAAAABAAACAAAAAAEAAAoAAAAAAQAABAAAAAABAAAAAAAAAAEAAAIAAAAAAQAACgAAAAABAAAEAAAAAAEAAAAAAAAAAQAAAgAAAAABAAAKAAAAAAEAAAQAAAAAAQAAAAAAAAABAAACAAAAAAEAAAoAAAAAAQAABAAAAAABAAAAAAAAAAEAAAIAAAAAAQAACgAAAAABAAAEAAAAAAEAAAAAAAAAAQAAAgAAAAABAAAKAAAAAAEAAAQAAAAAAQAAAAAAAAABAAACAAAAAAEAAAoAAAAAAQAABAAAAAABAAAAAAAAAAEAAAIAAAAAAQAACgAAAAABAAAEAAAAAAEAAAAAAAAAAQAAAgAAAAABAAAKAAAAAAEAAAQAAAAAAQAAAAAAAAABAAACAAAAAAEAAAoAAAAAAQAABAAAAAABAAAAAAAAAAEAAAIAAAAAAQAACgAAAAABAAAEAAAAAAEAAAAAAAAAAQAAAgAAAAABAAAKAAAAAAEAAAQAAAAAAQAAAAAAAAABAAACAAAAAAEAAAoAAAAAAQAABAAAAAABAAAAAAAAAAEAAAIAAAAAAQAACgAAAAABAAAEAAAAAAEAAAAAAAAAAQAAAgAAAAABAAAKAAAAAAEAAAQAAAAAAQAAAAAAAAABAAACAAAAAAEAAAoAAAAAAQAABAAAAAABAAAAAAAAAAEAAAIAAAAAAQAACgAAAAABAAAEAAAAAAEAAAAAAAAAAQAAAgAAAAABAAAKAAAAAAEAAAQAAAAAAQAAAAAAAAABAAACAAAAAAEAAAoAAAAAAQAABAAAAAABAAAAAAAAAAEAAAIAAAAAAQAACgAAAAABAAAEAAAAAAEAAAAAAAAAAQAAAgAAAAABAAAKAAAAAAEAAAQAAAAAAQAAAAAAAAABAAACAAAAAAEAAAoAAAAAAQAABAAAAAABAAAAAAAAAAEAAAIAAAAAAQAACgAAAAABAAAEAAAAAAEAAAAAAAAAAQAAAgAAAAABAAAKAAAAAAEAAAQAAAAAAQAAAAAAAAABAAACAAAAAAEAAAoAAAAAAQAABAAAAAABAAAAAAAAAAEAAAIAAAAAAQAACgAAAAABAAAEAAAAAAEAAAAAAAAAAQAAAgAAAAABAAAKAAAAAAEAAAQAAAAAAQAAAAAAAAABAAACAAAAAAEAAAoAAAAAAQAABAAAAAABAAAAAAAAAAEAAAIAAAAAAQAACgAAAAABAAAEAAAAAAEAAAAAAAAAAQAAAgAAAAABAAAKAAAAAAEAAAQAAAAAAQAAAAAAAAABAAACAAAAAAEAAAoAAAAAAQAABAAAAAABAAAAAAAAAAEAAAIAAAAAAQAACgAAAAABAAAEAAAAAAEAAAAAAAAAAQAAAgAAAAABAAAKAAAAAAEAAAQAAAAAAQAAAAAAAAABAAACAAAAAAEAAAoAAAAAAQAABAAAAAABAAAAAAAAAAEAAAIAAAAAAQAACgAAAAABAAAEAAAAAAEAAAAAAAAAAQAAAgAAAAABAAAKAAAAAAEAAAQAAAAAAQAAAAAAAAABAAACAAAAAAEAAAoAAAAAAQAABAAAAAABAAAAAAAAAAEAAAIAAAAAAQAACgAAAAABAAAEAAAAAAEAAAAAAAAAAQAAAgAAAAABAAAKAAAAAAEAAAQAAAAAAQAAAAAAAAABAAACAAAAAAEAAAoAAAAAAQAABAAAAAABAAAAAAAAAAEAAAIAAAAAAQAACgAAAAABAAAEAAAAAAEAAAAAAAAAAQAAAgAAAAABAAAKAAAAAAEAAAQAAAAAAQAAAAAAAAABAAACAAAAAAEAAAoAAAAAAQAABAAAAAABAAAAAAAAAAEAAAIAAAAAAQAACgAAAAABAAAEAAAAAAEAAAAAAAAAAQAAAgAAAAABAAAKAAAAAAEAAAQAAAAAAQAAAAAAAAABAAACAAAAAAEAAAQAAAAAHHN0c2MAAAAAAAAAAQAAAAEAAADKAAAAAQAAAzxzdHN6AAAAAAAAAAAAAADKAAAFgQAAABkAAAAcAAAAGwAAABMAAAAWAAAAEAAAABQAAAATAAAAFwAAABAAAAAUAAAAEwAAABcAAAAQAAAAFAAAABMAAAAXAAAAEAAAABQAAAATAAAAFwAAABAAAAAUAAAAEwAAABcAAAAQAAAAFAAAABMAAAAXAAAAEAAAABQAAAATAAAAFwAAABAAAAAUAAAAEwAAABcAAAAQAAAAFAAAABMAAAAXAAAAEAAAABQAAAATAAAAFwAAABAAAAAUAAAAEwAAABcAAAAQAAAAFAAAABMAAAAXAAAAEAAAABQAAAATAAAAFwAAABAAAAAUAAAAEwAAABcAAAAQAAAAFAAAABMAAAAXAAAAEAAAABQAAAATAAAAFwAAABAAAAAUAAAAEwAAABcAAAAQAAAAFAAAABMAAAAXAAAAEAAAABQAAAATAAAAFwAAABAAAAAUAAAAEwAAABcAAAAQAAAAFAAAABMAAAAXAAAAEAAAABQAAAATAAAAFwAAABAAAAAUAAAAEwAAABcAAAAQAAAAFAAAABMAAAAXAAAAEAAAABQAAAATAAAAFwAAABAAAAAUAAAAEwAAABcAAAAQAAAAFAAAABMAAAAXAAAAEAAAABQAAAATAAAAFwAAABAAAAAUAAAAEwAAABcAAAAQAAAAFAAAABMAAAAXAAAAEAAAABQAAAATAAAAFwAAABAAAAAUAAAAEwAAABcAAAAQAAAAFAAAABMAAAAXAAAAEAAAABQAAAATAAAAFwAAABAAAAAUAAAAEwAAABcAAAAQAAAAFAAAABMAAAAXAAAAEAAAABQAAAATAAAAFwAAABAAAAAUAAAAEwAAABcAAAAQAAAAFAAAABMAAAAXAAAAEAAAABQAAAATAAAAFwAAABAAAAAUAAAAEwAAABcAAAAQAAAAFAAAABMAAAAXAAAAEAAAABQAAAATAAAAFwAAABAAAAAUAAAAEwAAABcAAAAQAAAAFAAAABMAAAAXAAAAEAAAABQAAAATAAAAFgAAABAAAAAUAAAAEwAAABYAAAAQAAAAFAAAABMAAAAWAAAAEAAAABQAAAATAAAAHgAAABRzdGNvAAAAAAAAAAEAAAAwAAAAYnVkdGEAAABabWV0YQAAAAAAAAAhaGRscgAAAAAAAAAAbWRpcmFwcGwAAAAAAAAAAAAAAAAtaWxzdAAAACWpdG9vAAAAHWRhdGEAAAABAAAAAExhdmY1Ny40MS4xMDA=\" type=\"video/mp4\" />\n",
       "             </video>"
      ],
      "text/plain": [
       "<IPython.core.display.HTML object>"
      ]
     },
     "execution_count": 16,
     "metadata": {},
     "output_type": "execute_result"
    }
   ],
   "source": [
    "HTML(display_videos('cnn_test9.mp4'))"
   ]
  },
  {
   "cell_type": "code",
   "execution_count": 17,
   "metadata": {},
   "outputs": [
    {
     "data": {
      "text/html": [
       "<video alt=\"test\" controls>\n",
       "                <source src=\"data:video/mp4;base64,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\" type=\"video/mp4\" />\n",
       "             </video>"
      ],
      "text/plain": [
       "<IPython.core.display.HTML object>"
      ]
     },
     "execution_count": 17,
     "metadata": {},
     "output_type": "execute_result"
    }
   ],
   "source": [
    "HTML(display_videos('fc_test9.mp4'))"
   ]
  },
  {
   "cell_type": "markdown",
   "metadata": {},
   "source": [
    "> We can observe that at test time, the agent consumes directly surrounding rewards and then stays in the same zone. This is due to the fact that at test time there is no exploration and only exploitation, and the learned policies do not propose exploration but only \"safe\" moves, that is to say moves that avoid losses when no more win is directly available.\n",
    "The `temperatue` parameter is the probability parameter of the binomial laws from which losses and wins are drawn. These binomial laws, for $n$ draws, have an expectancy of $n \\times \\text{temperature}$. Thus increasing the temperature leads to more wins and losses available on the grid, and a higher score for our agents (there are more rewards directly available)."
   ]
  },
  {
   "cell_type": "markdown",
   "metadata": {},
   "source": [
    "***\n",
    "\n",
    "The algorithm tends to not explore the map which can be an issue. We propose two ideas in order to encourage exploration:\n",
    "1. Incorporating a decreasing $\\epsilon$-greedy exploration. You can use the method ```set_epsilon```\n",
    "2. Append via the environment a new state that describes if a cell has been visited or not\n",
    "\n",
    "***\n",
    "__Question 10__ Design a new ```train_explore``` function and environment class ```EnvironmentExploring``` to tackle the issue of exploration.\n",
    "\n"
   ]
  },
  {
   "cell_type": "code",
   "execution_count": 18,
   "metadata": {},
   "outputs": [],
   "source": [
    "def train_explore(agent, env, epoch, prefix=''):\n",
    "    # Number of won games\n",
    "    score = 0\n",
    "    loss = 0\n",
    "    # epsilon decay schedule\n",
    "    epsilons = np.linspace(1, 0.1, epoch)\n",
    "\n",
    "    for e in range(epoch):\n",
    "        # At each epoch, we restart to a fresh game and get the initial state\n",
    "        state = env.reset()\n",
    "        # This assumes that the games will terminate\n",
    "        game_over = False\n",
    "        \n",
    "        # Update of exploration parameter epsilon\n",
    "        agent.set_epsilon(epsilons[e])\n",
    "\n",
    "        win = 0\n",
    "        lose = 0\n",
    "\n",
    "        while not game_over:\n",
    "            # The agent performs an action\n",
    "            action = agent.act(state)\n",
    "\n",
    "            # Apply an action to the environment, get the next state, the reward\n",
    "            # and if the games end\n",
    "            prev_state = state\n",
    "            state, reward, game_over = env.act(action, train=True)\n",
    "\n",
    "            # Update the counters\n",
    "            if reward > 0:\n",
    "                win = win + reward\n",
    "            if reward < 0:\n",
    "                lose = lose - reward\n",
    "\n",
    "            # Apply the reinforcement strategy\n",
    "            loss = agent.reinforce(prev_state, state,  action, reward, game_over)\n",
    "            \n",
    "\n",
    "        # Save as a mp4\n",
    "        if e % 10 == 0:\n",
    "            env.draw(prefix+str(e))\n",
    "\n",
    "        # Update stats\n",
    "        score += win-lose\n",
    "\n",
    "        print(\"Epoch {:03d}/{:03d} | Loss {:.4f} | Win/lose count {}/{} ({})\"\n",
    "              .format(e, epoch, loss, win, lose, win-lose))\n",
    "        agent.save(name_weights=prefix+'model.h5',name_model=prefix+'model.json')"
   ]
  },
  {
   "cell_type": "code",
   "execution_count": 19,
   "metadata": {},
   "outputs": [],
   "source": [
    "class EnvironmentExploring(object):\n",
    "    def __init__(self, grid_size=10, max_time=500, temperature=0.1):\n",
    "        grid_size = grid_size + 4\n",
    "        self.grid_size = grid_size\n",
    "        self.max_time = max_time\n",
    "        self.temperature = temperature\n",
    "\n",
    "        #board on which one plays\n",
    "        self.board = np.zeros((grid_size,grid_size))\n",
    "        self.position = np.zeros((grid_size,grid_size))\n",
    "        #historic of explored positions\n",
    "        self.malus_position = np.zeros((grid_size,grid_size))\n",
    "\n",
    "        # coordinate of the rat\n",
    "        self.x = 0\n",
    "        self.y = 1\n",
    "\n",
    "        # self time\n",
    "        self.t = 0\n",
    "\n",
    "        self.scale=16\n",
    "\n",
    "        self.to_draw = np.zeros((max_time+2, grid_size*self.scale, grid_size*self.scale, 3))\n",
    "\n",
    "\n",
    "    def draw(self, e):\n",
    "        skvideo.io.vwrite(str(e) + '.mp4', self.to_draw)\n",
    "\n",
    "    def get_frame(self, t):\n",
    "        b = np.zeros((self.grid_size,self.grid_size,3))+128\n",
    "        b[self.board>0, 0] = 256\n",
    "        b[self.board < 0, 2] = 256\n",
    "        b[self.x,self.y, :]=256\n",
    "        b[-2:,:,:]=0\n",
    "        b[:,-2:,:]=0\n",
    "        b[:2,:,:]=0\n",
    "        b[:,:2,:]=0\n",
    "        \n",
    "        b =  cv2.resize(b, None, fx=self.scale, fy=self.scale, interpolation=cv2.INTER_NEAREST)\n",
    "\n",
    "        self.to_draw[t,:,:,:]=b\n",
    "\n",
    "\n",
    "    def act(self, action, train=False):\n",
    "        \"\"\"This function returns the new state, reward and decides if the\n",
    "        game ends.\"\"\"\n",
    "\n",
    "        self.get_frame(int(self.t))\n",
    "\n",
    "        self.position = np.zeros((self.grid_size, self.grid_size))\n",
    "\n",
    "        self.position[0:2,:]= -1\n",
    "        self.position[:,0:2] = -1\n",
    "        self.position[-2:, :] = -1\n",
    "        #self.position[-2:, :] = -1\n",
    "        self.position[:, -2:] = -1\n",
    "        \n",
    "        self.position[self.x, self.y] = 1\n",
    "        if action == 0:\n",
    "            if self.x == self.grid_size-3:\n",
    "                self.x = self.x-1\n",
    "            else:\n",
    "                self.x = self.x + 1\n",
    "        elif action == 1:\n",
    "            if self.x == 2:\n",
    "                self.x = self.x+1\n",
    "            else:\n",
    "                self.x = self.x-1\n",
    "        elif action == 2:\n",
    "            if self.y == self.grid_size - 3:\n",
    "                self.y = self.y - 1\n",
    "            else:\n",
    "                self.y = self.y + 1\n",
    "        elif action == 3:\n",
    "            if self.y == 2:\n",
    "                self.y = self.y + 1\n",
    "            else:\n",
    "                self.y = self.y - 1\n",
    "        else:\n",
    "            RuntimeError('Error: action not recognized')\n",
    "\n",
    "        self.t = self.t + 1\n",
    "        \n",
    "        \n",
    "        reward = 0\n",
    "        if train:\n",
    "            reward = -self.malus_position[self.x, self.y]\n",
    "        self.malus_position[self.x, self.y] = 0.1\n",
    "\n",
    "        reward = reward + self.board[self.x, self.y]\n",
    "\n",
    "        self.board[self.x, self.y] = 0\n",
    "        game_over = self.t > self.max_time\n",
    "        state = np.concatenate((self.malus_position.reshape(self.grid_size, self.grid_size,1),\n",
    "                                self.board.reshape(self.grid_size, self.grid_size,1),\n",
    "                        self.position.reshape(self.grid_size, self.grid_size,1)),axis=2)\n",
    "        state = state[self.x-2:self.x+3,self.y-2:self.y+3,:]\n",
    "\n",
    "        return state, reward, game_over\n",
    "\n",
    "    def reset(self):\n",
    "        \"\"\"This function resets the game and returns the initial state\"\"\"\n",
    "\n",
    "        self.x = np.random.randint(3, self.grid_size-3, size=1)[0]\n",
    "        self.y = np.random.randint(3, self.grid_size-3, size=1)[0]\n",
    "\n",
    "\n",
    "        bonus = 0.5*np.random.binomial(1, self.temperature, size=self.grid_size**2)\n",
    "        bonus = bonus.reshape(self.grid_size, self.grid_size)\n",
    "\n",
    "        malus = -1.0*np.random.binomial(1, self.temperature, size=self.grid_size**2)\n",
    "        malus = malus.reshape(self.grid_size, self.grid_size)\n",
    "\n",
    "        self.to_draw = np.zeros((self.max_time+2, self.grid_size*self.scale, self.grid_size*self.scale, 3))\n",
    "\n",
    "\n",
    "        malus[bonus>0]=0\n",
    "\n",
    "        self.board = bonus + malus\n",
    "        self.malus_position = np.zeros((self.grid_size, self.grid_size))\n",
    "\n",
    "        self.position = np.zeros((self.grid_size, self.grid_size))\n",
    "        self.position[0:2,:]= -1\n",
    "        self.position[:,0:2] = -1\n",
    "        self.position[-2:, :] = -1\n",
    "        #self.position[-2:, :] = -1\n",
    "        self.position[:, -2:] = -1\n",
    "        self.board[self.x,self.y] = 0\n",
    "        self.t = 0\n",
    "\n",
    "        state = np.concatenate((self.malus_position.reshape(self.grid_size, self.grid_size,1),\n",
    "                                self.board.reshape(self.grid_size, self.grid_size,1),\n",
    "                        self.position.reshape(self.grid_size, self.grid_size,1)),axis=2)\n",
    "\n",
    "        state = state[self.x - 2:self.x + 3, self.y - 2:self.y + 3, :]\n",
    "        return state"
   ]
  },
  {
   "cell_type": "code",
   "execution_count": 20,
   "metadata": {},
   "outputs": [
    {
     "name": "stdout",
     "output_type": "stream",
     "text": [
      "Epoch 000/031 | Loss 0.0255 | Win/lose count 6.0/26.80000000000008 (-20.80000000000008)\n",
      "Epoch 001/031 | Loss 0.0233 | Win/lose count 12.5/26.800000000000033 (-14.300000000000033)\n",
      "Epoch 002/031 | Loss 0.0298 | Win/lose count 6.5/23.800000000000068 (-17.300000000000068)\n",
      "Epoch 003/031 | Loss 0.0123 | Win/lose count 10.0/25.700000000000088 (-15.700000000000088)\n",
      "Epoch 004/031 | Loss 0.0145 | Win/lose count 9.5/18.700000000000003 (-9.200000000000003)\n",
      "Epoch 005/031 | Loss 0.0053 | Win/lose count 12.5/28.50000000000011 (-16.00000000000011)\n",
      "Epoch 006/031 | Loss 0.0026 | Win/lose count 11.5/24.400000000000066 (-12.900000000000066)\n",
      "Epoch 007/031 | Loss 0.0047 | Win/lose count 15.5/19.00000000000002 (-3.5000000000000213)\n",
      "Epoch 008/031 | Loss 0.0111 | Win/lose count 9.0/22.900000000000077 (-13.900000000000077)\n",
      "Epoch 009/031 | Loss 0.0018 | Win/lose count 8.5/22.600000000000048 (-14.100000000000048)\n",
      "Epoch 010/031 | Loss 0.0053 | Win/lose count 8.0/26.900000000000077 (-18.900000000000077)\n",
      "Epoch 011/031 | Loss 0.1059 | Win/lose count 13.0/23.20000000000003 (-10.200000000000031)\n",
      "Epoch 012/031 | Loss 0.0024 | Win/lose count 4.5/20.200000000000024 (-15.700000000000024)\n",
      "Epoch 013/031 | Loss 0.0068 | Win/lose count 10.5/22.500000000000068 (-12.000000000000068)\n",
      "Epoch 014/031 | Loss 0.0052 | Win/lose count 17.0/27.50000000000003 (-10.500000000000028)\n",
      "Epoch 015/031 | Loss 0.0203 | Win/lose count 11.0/21.300000000000026 (-10.300000000000026)\n",
      "Epoch 016/031 | Loss 0.0027 | Win/lose count 20.5/23.800000000000068 (-3.300000000000068)\n",
      "Epoch 017/031 | Loss 0.0069 | Win/lose count 16.5/19.599999999999998 (-3.099999999999998)\n",
      "Epoch 018/031 | Loss 0.0165 | Win/lose count 14.0/23.800000000000015 (-9.800000000000015)\n",
      "Epoch 019/031 | Loss 0.0082 | Win/lose count 18.0/22.400000000000055 (-4.400000000000055)\n",
      "Epoch 020/031 | Loss 0.0070 | Win/lose count 22.0/19.00000000000003 (2.9999999999999716)\n",
      "Epoch 021/031 | Loss 0.0087 | Win/lose count 15.0/24.100000000000037 (-9.100000000000037)\n",
      "Epoch 022/031 | Loss 0.0046 | Win/lose count 15.0/18.700000000000006 (-3.7000000000000064)\n",
      "Epoch 023/031 | Loss 0.0114 | Win/lose count 23.0/21.30000000000003 (1.6999999999999709)\n",
      "Epoch 024/031 | Loss 0.0053 | Win/lose count 20.0/19.800000000000022 (0.19999999999997797)\n",
      "Epoch 025/031 | Loss 0.0116 | Win/lose count 13.0/17.599999999999994 (-4.599999999999994)\n",
      "Epoch 026/031 | Loss 0.0099 | Win/lose count 17.0/23.900000000000063 (-6.9000000000000625)\n",
      "Epoch 027/031 | Loss 0.0089 | Win/lose count 17.0/21.00000000000004 (-4.000000000000039)\n",
      "Epoch 028/031 | Loss 0.0052 | Win/lose count 9.5/22.200000000000042 (-12.700000000000042)\n",
      "Epoch 029/031 | Loss 0.0120 | Win/lose count 16.0/19.900000000000006 (-3.9000000000000057)\n",
      "Epoch 030/031 | Loss 0.0055 | Win/lose count 24.5/14.69999999999997 (9.80000000000003)\n"
     ]
    },
    {
     "data": {
      "text/html": [
       "<video alt=\"test\" controls>\n",
       "                <source src=\"data:video/mp4;base64,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\" type=\"video/mp4\" />\n",
       "             </video>"
      ],
      "text/plain": [
       "<IPython.core.display.HTML object>"
      ]
     },
     "execution_count": 20,
     "metadata": {},
     "output_type": "execute_result"
    }
   ],
   "source": [
    "# parameters\n",
    "size = 13\n",
    "T = 200\n",
    "epochs_train = 31 # set small when debugging\n",
    "epochs_test = 10 # set small when debugging\n",
    "\n",
    "# Training\n",
    "env = EnvironmentExploring(grid_size=size, max_time=T, temperature=0.3)\n",
    "agent = DQN_CNN(size, lr=.1, epsilon = 0.1, memory_size=2000, batch_size = 16, n_state=3)\n",
    "train_explore(agent, env, epochs_train, prefix='cnn_train_explore')\n",
    "HTML(display_videos('cnn_train_explore30.mp4'))"
   ]
  },
  {
   "cell_type": "code",
   "execution_count": 21,
   "metadata": {},
   "outputs": [
    {
     "name": "stdout",
     "output_type": "stream",
     "text": [
      "Win/lose count 10.5/0. Average score (10.5)\n",
      "Win/lose count 4.0/0. Average score (7.25)\n",
      "Win/lose count 3.5/0. Average score (6.0)\n",
      "Win/lose count 8.0/0. Average score (6.5)\n",
      "Win/lose count 7.5/0. Average score (6.7)\n",
      "Win/lose count 9.5/0. Average score (7.166666666666667)\n",
      "Win/lose count 15.5/1.0. Average score (8.214285714285714)\n",
      "Win/lose count 13.5/0. Average score (8.875)\n",
      "Win/lose count 5.5/0. Average score (8.5)\n",
      "Win/lose count 4.5/0. Average score (8.1)\n",
      "Final score: 8.1\n"
     ]
    },
    {
     "data": {
      "text/html": [
       "<video alt=\"test\" controls>\n",
       "                <source src=\"data:video/mp4;base64,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\" type=\"video/mp4\" />\n",
       "             </video>"
      ],
      "text/plain": [
       "<IPython.core.display.HTML object>"
      ]
     },
     "execution_count": 21,
     "metadata": {},
     "output_type": "execute_result"
    }
   ],
   "source": [
    "# Evaluation\n",
    "test(agent,env,epochs_test,prefix='cnn_test_explore')\n",
    "HTML(display_videos('cnn_test_explore9.mp4'))"
   ]
  },
  {
   "cell_type": "markdown",
   "metadata": {},
   "source": [
    "***\n",
    "***\n",
    "__BONUS question__ Use the expert DQN from the previous question to generate some winning games. Train a model that mimicks its behavior. Compare the performances."
   ]
  },
  {
   "cell_type": "markdown",
   "metadata": {},
   "source": []
  },
  {
   "cell_type": "markdown",
   "metadata": {},
   "source": [
    "***"
   ]
  }
 ],
 "metadata": {
  "kernelspec": {
   "display_name": "Python [keras]",
   "language": "python",
   "name": "keras"
  },
  "language_info": {
   "codemirror_mode": {
    "name": "ipython",
    "version": 3
   },
   "file_extension": ".py",
   "mimetype": "text/x-python",
   "name": "python",
   "nbconvert_exporter": "python",
   "pygments_lexer": "ipython3",
   "version": "3.6.7"
  }
 },
 "nbformat": 4,
 "nbformat_minor": 2
}
